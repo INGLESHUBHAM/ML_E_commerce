{
 "cells": [
  {
   "cell_type": "code",
   "execution_count": null,
   "metadata": {},
   "outputs": [],
   "source": [
    "import warnings\n",
    "warnings.filterwarnings(\"ignore\")\n",
    "\n",
    "import matplotlib.pyplot as plt\n",
    "import pandas as pd\n",
    "import numpy as np\n",
    "import seaborn as sns"
   ]
  },
  {
   "cell_type": "code",
   "execution_count": null,
   "metadata": {},
   "outputs": [],
   "source": [
    "import psycopg2\n",
    "con=psycopg2.connect(dbname= 'dev', host='mantix-cluster.cgzkthavydhk.us-east-2.redshift.amazonaws.com', \n",
    "port= '5439', user= 'mantix', password= 'Mantix123!')\n",
    "cur = con.cursor()"
   ]
  },
  {
   "cell_type": "code",
   "execution_count": null,
   "metadata": {},
   "outputs": [],
   "source": [
    "query = \"\"\"(SELECT DISTINCT customer_account_id,\n",
    "                               DATEDIFF(DAY,MAX(submitted_date),getdate()) AS days_since_last_transaction,\n",
    "                               COUNT(*) AS toal_purchases,\n",
    "                               SUM(total) AS total_amount\n",
    "                        FROM cdp.orders_data\n",
    "                        WHERE tenant_id = 'TNB00001'\n",
    "                        AND   store_id = 'STOM000000001'\n",
    "                        AND    status NOT IN ('Abandoned','Errored','Pending','PendingReview','Cancelled','null')\n",
    "                        GROUP BY customer_account_id)\"\"\""
   ]
  },
  {
   "cell_type": "code",
   "execution_count": null,
   "metadata": {},
   "outputs": [],
   "source": [
    "b = pd.read_sql(query,con)"
   ]
  },
  {
   "cell_type": "code",
   "execution_count": null,
   "metadata": {},
   "outputs": [],
   "source": [
    "b"
   ]
  },
  {
   "cell_type": "code",
   "execution_count": null,
   "metadata": {},
   "outputs": [],
   "source": [
    "b['total_amount'] = b['total_amount'].fillna(0)"
   ]
  },
  {
   "cell_type": "code",
   "execution_count": null,
   "metadata": {},
   "outputs": [],
   "source": [
    "row_indexes=b[b['days_since_last_transaction']>=30].index\n",
    "b.loc[row_indexes,'churn']= 1\n"
   ]
  },
  {
   "cell_type": "code",
   "execution_count": null,
   "metadata": {},
   "outputs": [],
   "source": [
    "b['churn'] = b['churn'].fillna(0)"
   ]
  },
  {
   "cell_type": "code",
   "execution_count": null,
   "metadata": {},
   "outputs": [],
   "source": [
    "b.churn.value_counts()"
   ]
  },
  {
   "cell_type": "code",
   "execution_count": null,
   "metadata": {},
   "outputs": [],
   "source": [
    "b['churn'] = b['churn'].astype('category')"
   ]
  },
  {
   "cell_type": "code",
   "execution_count": null,
   "metadata": {},
   "outputs": [],
   "source": [
    "response = pd.DataFrame()\n",
    "response['count'] = b.churn.value_counts()\n",
    "response['percentage'] = (response['count'] / response['count'].sum()) * 100\n",
    "print(response)"
   ]
  },
  {
   "cell_type": "code",
   "execution_count": null,
   "metadata": {},
   "outputs": [],
   "source": [
    "b.shape"
   ]
  },
  {
   "cell_type": "code",
   "execution_count": null,
   "metadata": {},
   "outputs": [],
   "source": [
    "b = b.dropna()"
   ]
  },
  {
   "cell_type": "code",
   "execution_count": null,
   "metadata": {},
   "outputs": [],
   "source": [
    "b.shape"
   ]
  },
  {
   "cell_type": "code",
   "execution_count": null,
   "metadata": {},
   "outputs": [],
   "source": [
    "b.head()"
   ]
  },
  {
   "cell_type": "code",
   "execution_count": null,
   "metadata": {},
   "outputs": [],
   "source": [
    "#setting our training and test set\n",
    "training_set = b.drop(['churn','days_since_last_transaction','customer_account_id'], axis=1)\n",
    "target_var = b['churn'].values"
   ]
  },
  {
   "cell_type": "code",
   "execution_count": null,
   "metadata": {},
   "outputs": [],
   "source": [
    "training_set.shape"
   ]
  },
  {
   "cell_type": "code",
   "execution_count": null,
   "metadata": {},
   "outputs": [],
   "source": [
    "#splitting our data...\n",
    "from sklearn.model_selection import train_test_split\n",
    "xtrain,xtest, ytrain, ytest = train_test_split(training_set, target_var, test_size=0.3, random_state=0)"
   ]
  },
  {
   "cell_type": "code",
   "execution_count": null,
   "metadata": {},
   "outputs": [],
   "source": [
    "from sklearn.ensemble import GradientBoostingClassifier\n",
    "from sklearn.metrics import mean_squared_error, confusion_matrix, classification_report\n",
    "gbr = GradientBoostingClassifier(n_estimators = 500)\n",
    "gbr.fit(xtrain,ytrain)\n",
    "prediction_gbr = gbr.predict(xtest)\n",
    "print(\"Training accuracy: %.2f\" %(gbr.score(xtrain, ytrain) * 100))\n",
    "print(\"Test accuracy    : %.2f\" %(gbr.score(xtest, ytest) * 100))\n",
    "print(\"\")\n",
    "print(\"Confusion matrix..\")\n",
    "print(confusion_matrix(ytest, prediction_gbr))\n",
    "print(\"\")\n",
    "print(classification_report(ytest, prediction_gbr))"
   ]
  },
  {
   "cell_type": "code",
   "execution_count": null,
   "metadata": {},
   "outputs": [],
   "source": [
    "from sklearn.ensemble import RandomForestClassifier\n",
    "random_forest = RandomForestClassifier(n_estimators = 500)\n",
    "random_forest.fit(xtrain,ytrain)\n",
    "prediction_rf = random_forest.predict_proba(xtest)\n",
    "print(\"Training accuracy: %.2f\" %(random_forest.score(xtrain, ytrain) * 100))\n",
    "print(\"Test accuracy    : %.2f\" %(random_forest.score(xtest, ytest) * 100))\n",
    "print(\"\")\n",
    "print(\"Confusion matrix..\")\n",
    "print(\"\")"
   ]
  },
  {
   "cell_type": "code",
   "execution_count": null,
   "metadata": {},
   "outputs": [],
   "source": [
    "import joblib\n",
    "joblib.dump(random_forest, 'Bimart_churn.pkl') \n",
    "rf_prop = joblib.load('Bimart_churn.pkl') "
   ]
  },
  {
   "cell_type": "code",
   "execution_count": null,
   "metadata": {},
   "outputs": [],
   "source": [
    "prediction_rf = random_forest.predict_proba(training_set)"
   ]
  },
  {
   "cell_type": "code",
   "execution_count": null,
   "metadata": {},
   "outputs": [],
   "source": [
    "prediction_rf_df = pd.DataFrame(data = prediction_rf)"
   ]
  },
  {
   "cell_type": "code",
   "execution_count": null,
   "metadata": {},
   "outputs": [],
   "source": [
    "prediction_rf_df.head()"
   ]
  },
  {
   "cell_type": "code",
   "execution_count": null,
   "metadata": {},
   "outputs": [],
   "source": [
    "prediction_rf_df = prediction_rf_df.rename(columns={prediction_rf_df.columns[1]: 'churn_prediction'})"
   ]
  },
  {
   "cell_type": "code",
   "execution_count": null,
   "metadata": {},
   "outputs": [],
   "source": [
    "prediction_rf_df.tail()"
   ]
  },
  {
   "cell_type": "code",
   "execution_count": null,
   "metadata": {},
   "outputs": [],
   "source": [
    "prediction_rf_df.shape"
   ]
  },
  {
   "cell_type": "code",
   "execution_count": null,
   "metadata": {},
   "outputs": [],
   "source": [
    "b.shape"
   ]
  },
  {
   "cell_type": "code",
   "execution_count": null,
   "metadata": {},
   "outputs": [],
   "source": [
    "# b['churn_prediction'] = prediction_rf_df.iloc[1]"
   ]
  },
  {
   "cell_type": "code",
   "execution_count": null,
   "metadata": {},
   "outputs": [],
   "source": [
    "b['churn_prediction'] = prediction_rf_df['churn_prediction']"
   ]
  },
  {
   "cell_type": "code",
   "execution_count": null,
   "metadata": {},
   "outputs": [],
   "source": [
    "b.head()"
   ]
  },
  {
   "cell_type": "code",
   "execution_count": null,
   "metadata": {},
   "outputs": [],
   "source": [
    "# prediction_rf_df['customer_account_id'] = prediction_rf_df.iloc[0]"
   ]
  },
  {
   "cell_type": "code",
   "execution_count": null,
   "metadata": {},
   "outputs": [],
   "source": [
    "# prediction_rf_df.head()"
   ]
  },
  {
   "cell_type": "code",
   "execution_count": null,
   "metadata": {},
   "outputs": [],
   "source": [
    "# new_df = b.merge(prediction_rf_df, left_index=True, right_index=True, how='inner')"
   ]
  },
  {
   "cell_type": "code",
   "execution_count": null,
   "metadata": {},
   "outputs": [],
   "source": [
    "# results_df = new_df[['customer_account_id_x','churn_prediction']]"
   ]
  },
  {
   "cell_type": "code",
   "execution_count": null,
   "metadata": {},
   "outputs": [],
   "source": [
    "new_df=b[['customer_account_id','churn_prediction']]"
   ]
  },
  {
   "cell_type": "code",
   "execution_count": null,
   "metadata": {},
   "outputs": [],
   "source": [
    "# results_df = results_df.rename(columns={'customer_account_id_x': 'customer_account_id'})"
   ]
  },
  {
   "cell_type": "code",
   "execution_count": null,
   "metadata": {},
   "outputs": [],
   "source": [
    "new_df.tail()"
   ]
  },
  {
   "cell_type": "code",
   "execution_count": null,
   "metadata": {},
   "outputs": [],
   "source": [
    "new_df['churn_prediction'] = new_df['churn_prediction'].mul(100).round(2)"
   ]
  },
  {
   "cell_type": "code",
   "execution_count": null,
   "metadata": {},
   "outputs": [],
   "source": [
    "new_df.tail()"
   ]
  },
  {
   "cell_type": "code",
   "execution_count": null,
   "metadata": {},
   "outputs": [],
   "source": [
    "new_df['tenant_id'] = 'TNB00001'\n",
    "new_df['store_id'] = 'STOM000000001'"
   ]
  },
  {
   "cell_type": "code",
   "execution_count": null,
   "metadata": {},
   "outputs": [],
   "source": [
    "import datetime\n",
    "from datetime import date\n",
    "date = date.today()\n",
    "date"
   ]
  },
  {
   "cell_type": "code",
   "execution_count": null,
   "metadata": {},
   "outputs": [],
   "source": [
    "new_df['create_date']= date"
   ]
  },
  {
   "cell_type": "code",
   "execution_count": null,
   "metadata": {},
   "outputs": [],
   "source": [
    "new_df.head()\n",
    "results_df=new_df.copy()"
   ]
  },
  {
   "cell_type": "code",
   "execution_count": null,
   "metadata": {},
   "outputs": [],
   "source": [
    "results_df.tail()"
   ]
  },
  {
   "cell_type": "code",
   "execution_count": null,
   "metadata": {},
   "outputs": [],
   "source": [
    "def load_db(results_df):\n",
    "    con=psycopg2.connect(dbname= 'dev', host='mantix-cluster.cgzkthavydhk.us-east-2.redshift.amazonaws.com', \n",
    "    port= '5439', user= 'mantix', password= 'Mantix123!')\n",
    "    cur = con.cursor()\n",
    "\n",
    "    def drop_table(conn,table):\n",
    "        try:\n",
    "            query = f\"\"\"DROP TABLE IF EXISTS {table}\"\"\"\n",
    "            cur = conn.cursor()\n",
    "            cur.execute(query)\n",
    "            conn.commit()\n",
    "            print(f'Drop table {table} successfully')\n",
    "            cur.close()\n",
    "        except (Exception, psycopg2.DatabaseError) as error:\n",
    "            print(\"Error: %s\" % error)\n",
    "            conn.rollback()\n",
    "            cur.close()\n",
    "            #return 1\n",
    "\n",
    "    def create_table(conn,table):\n",
    "        try:\n",
    "            query_col = \"\"\"(customer_account_id VARCHAR(1000),\n",
    "                churn_prediction FLOAT,tenant_id VARCHAR(1000),store_id VARCHAR(1000),create_date VARCHAR(1000))\"\"\"\n",
    "            query = f\"\"\"\n",
    "                    CREATE TABLE {table} \n",
    "                    \"\"\"+query_col\n",
    "            cur = conn.cursor()\n",
    "            cur.execute(\"ROLLBACK\")\n",
    "            conn.commit()\n",
    "            cur.execute(query)\n",
    "            conn.commit()\n",
    "            print(f'Successfully created the table {table}')\n",
    "            cur.close()\n",
    "        except (Exception, psycopg2.DatabaseError) as error:\n",
    "            print(\"Error: %s\" % error)\n",
    "            conn.rollback()\n",
    "            cur.close()\n",
    "            return 1\n",
    "            \n",
    "    def single_insert(conn, insert_req):\n",
    "        \"\"\" Execute a single INSERT request \"\"\"\n",
    "        cursor = conn.cursor()\n",
    "        try:\n",
    "            cursor.execute(insert_req)\n",
    "            conn.commit()\n",
    "        except (Exception, psycopg2.DatabaseError) as error:\n",
    "            print(\"Error: %s\" % error)\n",
    "            conn.rollback()\n",
    "            cursor.close()\n",
    "            return 1\n",
    "        cursor.close()\n",
    "        \n",
    "    def batch_insert(conn, batch_df):\n",
    "        # Create a cursor object from the connection\n",
    "        cursor = conn.cursor()\n",
    "        statment= f\"\"\"INSERT into {table}(customer_account_id,churn_prediction,tenant_id,store_id,create_date) values(%s,%s,%s,%s,%s);\"\"\"\n",
    "        try:\n",
    "            # Execute the batch INSERT request\n",
    "            cursor.executemany(statment, batch_df)\n",
    "            # Commit the changes to the database\n",
    "            conn.commit()\n",
    "            print(\"Batch INSERT successful.\")\n",
    "        except (Exception, psycopg2.DatabaseError) as error:\n",
    "            # Rollback the transaction in case of an error\n",
    "            conn.rollback()\n",
    "            print(\"Batch INSERT failed, Error:\", error)\n",
    "        finally:\n",
    "            # Close the cursor\n",
    "            cursor.close() \n",
    "        \n",
    "        \n",
    "    def insert_dataframe(final_df,conn,table):\n",
    "        batch_df=[]\n",
    "        for i in final_df.index:\n",
    "            current_tuple=(\n",
    "                        str(results_df.loc[i]['customer_account_id']), \n",
    "                        float(results_df.loc[i]['churn_prediction']),\n",
    "                        str(results_df.loc[i]['tenant_id']),\n",
    "                        str(results_df.loc[i]['store_id']),\n",
    "                        str(results_df.loc[i]['create_date'])\n",
    "                )\n",
    "            batch_df.append(current_tuple)\n",
    "            if (len(batch_df) == 500): \n",
    "                batch_insert(conn, batch_df)\n",
    "                batch_df=[]\n",
    "                print(\"Current index: {}, time: {}\".format(i, datetime.datetime.now()))\n",
    "            #endif\n",
    "        # Insert any remaining rows\n",
    "        if (len(batch_df) > 0):\n",
    "            batch_insert(conn,batch_df)\n",
    "        print('Successfully inserted dataframe into the table')\n",
    "        \n",
    "    table = 'cdp.churn'\n",
    "    drop_table(con,table)\n",
    "    create_table(con,table)\n",
    "    startTime = datetime.datetime.now()\n",
    "    insert_dataframe(results_df,con,table)\n",
    "    print(\"Start: {}, Finish: {}\".format(startTime, datetime.datetime.now()))\n",
    "\n",
    "if __name__ == '__main__':\n",
    "\n",
    "\n",
    "    # load data into database\n",
    "    load_db(results_df)\n",
    "\n",
    "######################################"
   ]
  },
  {
   "cell_type": "code",
   "execution_count": null,
   "metadata": {},
   "outputs": [],
   "source": [
    "# def load_db(results_df):\n",
    "#     con=psycopg2.connect(dbname= 'dev', host='mantix-cluster.cgzkthavydhk.us-east-2.redshift.amazonaws.com', \n",
    "#     port= '5439', user= 'mantix', password= 'Mantix123!')\n",
    "#     cur = con.cursor()\n",
    "\n",
    "#     def drop_table(conn,table):\n",
    "#         try:\n",
    "#             query = f\"\"\"DROP TABLE IF EXISTS {table}\"\"\"\n",
    "#             cur = conn.cursor()\n",
    "#             cur.execute(query)\n",
    "#             conn.commit()\n",
    "#             print(f'Drop table {table} successfully')\n",
    "#             cur.close()\n",
    "#         except (Exception, psycopg2.DatabaseError) as error:\n",
    "#             print(\"Error: %s\" % error)\n",
    "#             conn.rollback()\n",
    "#             cur.close()\n",
    "#             #return 1\n",
    "\n",
    "#     def create_table(conn,table):\n",
    "#         try:\n",
    "#             query_col = \"\"\"(customer_account_id VARCHAR(1000),\n",
    "#                 churn_prediction FLOAT,tenant_id VARCHAR(1000),store_id VARCHAR(1000),create_date VARCHAR(1000))\"\"\"\n",
    "#             query = f\"\"\"\n",
    "#                     CREATE TABLE {table} \n",
    "#                     \"\"\"+query_col\n",
    "#             cur = conn.cursor()\n",
    "#             cur.execute(\"ROLLBACK\")\n",
    "#             conn.commit()\n",
    "#             cur.execute(query)\n",
    "#             conn.commit()\n",
    "#             print(f'Successfully created the table {table}')\n",
    "#             cur.close()\n",
    "#         except (Exception, psycopg2.DatabaseError) as error:\n",
    "#             print(\"Error: %s\" % error)\n",
    "#             conn.rollback()\n",
    "#             cur.close()\n",
    "#             return 1\n",
    "            \n",
    "#     def single_insert(conn, insert_req):\n",
    "#         \"\"\" Execute a single INSERT request \"\"\"\n",
    "#         cursor = conn.cursor()\n",
    "#         try:\n",
    "#             cursor.execute(insert_req)\n",
    "#             conn.commit()\n",
    "#         except (Exception, psycopg2.DatabaseError) as error:\n",
    "#             print(\"Error: %s\" % error)\n",
    "#             conn.rollback()\n",
    "#             cursor.close()\n",
    "#             return 1\n",
    "#         cursor.close()\n",
    "        \n",
    "#     def insert_dataframe(results_df,conn,table):\n",
    "#         for i in results_df.index:\n",
    "#             query = f\"\"\"\n",
    "#                     INSERT into {table}(customer_account_id,churn_prediction,tenant_id,store_id,create_date) \n",
    "#                         values('%s',%s,%s,%s,%s);\n",
    "#                     \"\"\" % (results_df.loc[i]['customer_account_id'], \n",
    "#                         results_df.loc[i]['churn_prediction'],\n",
    "#                          \"'\"+str(results_df.loc[i]['tenant_id'])+\"'\",\n",
    "#                         \"'\"+str(results_df.loc[i]['store_id'])+\"'\",\"'\"+str(results_df.loc[i]['create_date'])+\"'\")\n",
    "#             if i%50==0:\n",
    "#                 print(i,end=' ')\n",
    "#             single_insert(conn, query)\n",
    "#         conn.commit()\n",
    "#         print('\\nSuccessfully inserted dataframe into the table')\n",
    "        \n",
    "#     table = 'cdp.churn'\n",
    "#     drop_table(con,table)\n",
    "#     create_table(con,table)\n",
    "#     insert_dataframe(results_df,con,table)\n",
    "\n",
    "# if __name__ == '__main__':\n",
    "\n",
    "\n",
    "#     # load data into database\n",
    "#     load_db(results_df)\n",
    "\n",
    "# ######################################"
   ]
  },
  {
   "cell_type": "code",
   "execution_count": null,
   "metadata": {},
   "outputs": [],
   "source": [
    "# def load_db(cltv_final):\n",
    "#     con=psycopg2.connect(dbname= 'dev', host='mantix-cluster.cgzkthavydhk.us-east-2.redshift.amazonaws.com', \n",
    "#     port= '5439', user= 'mantix', password= 'Mantix123!')\n",
    "#     cur = con.cursor()\n",
    "\n",
    "#     def drop_table(conn,table):\n",
    "#         try:\n",
    "#             query = f\"\"\"DROP TABLE IF EXISTS {table}\"\"\"\n",
    "#             cur = conn.cursor()\n",
    "#             cur.execute(query)\n",
    "#             conn.commit()\n",
    "#             print(f'Drop table {table} successfully')\n",
    "#             cur.close()\n",
    "#         except (Exception, psycopg2.DatabaseError) as error:\n",
    "#             print(\"Error: %s\" % error)\n",
    "#             conn.rollback()\n",
    "#             cur.close()\n",
    "#             #return 1\n",
    "\n",
    "#     def create_table(conn,table):\n",
    "#         try:\n",
    "#             query_col = \"\"\"(customer_account_id VARCHAR(1000),\n",
    "#                 cltv_6M FLOAT,cltv_12M FLOAT,\n",
    "#                 cltv_24M FLOAT,tenant_id VARCHAR(1000),store_id VARCHAR(1000),create_dms VARCHAR(1000))\"\"\"\n",
    "#             query = f\"\"\"\n",
    "#                     CREATE TABLE {table} \n",
    "#                     \"\"\"+query_col\n",
    "#             cur = conn.cursor()\n",
    "#             cur.execute(\"ROLLBACK\")\n",
    "#             conn.commit()\n",
    "#             cur.execute(query)\n",
    "#             conn.commit()\n",
    "#             print(f'Successfully created the table {table}')\n",
    "#             cur.close()\n",
    "#         except (Exception, psycopg2.DatabaseError) as error:\n",
    "#             print(\"Error: %s\" % error)\n",
    "#             conn.rollback()\n",
    "#             cur.close()\n",
    "#             return 1\n",
    "            \n",
    "#     def single_insert(conn, insert_req):\n",
    "#         \"\"\" Execute a single INSERT request \"\"\"\n",
    "#         cursor = conn.cursor()\n",
    "#         try:\n",
    "#             cursor.execute(insert_req)\n",
    "#             conn.commit()\n",
    "#         except (Exception, psycopg2.DatabaseError) as error:\n",
    "#             print(\"Error: %s\" % error)\n",
    "#             conn.rollback()\n",
    "#             cursor.close()\n",
    "#             return 1\n",
    "#         cursor.close()\n",
    "        \n",
    "#     def insert_dataframe(cltv_final,conn,table):\n",
    "#         for i in cltv_final.index:\n",
    "#             query = f\"\"\"\n",
    "#                     INSERT into {table}(customer_account_id,cltv_6M,cltv_12M,cltv_24M,tenant_id,store_id,create_dms) \n",
    "#                         values('%s',%s,%s,%s,%s,%s,%s);\n",
    "#                     \"\"\" % (cltv_final.loc[i]['CustomerId'], \n",
    "#                         cltv_final.loc[i]['cltv_6M'],\n",
    "                        \n",
    "#                         cltv_final.loc[i]['cltv_12M'],\n",
    "                        \n",
    "#                         cltv_final.loc[i]['cltv_24M'],\n",
    "                        \n",
    "#                         \"'\"+str(cltv_final.loc[i]['tenant_id'])+\"'\",\n",
    "#                         \"'\"+str(cltv_final.loc[i]['store_id'])+\"'\",\n",
    "#                          \"'\"+str(cltv_final.loc[i]['create_dms'])+\"'\")\n",
    "#             if i%50==0:\n",
    "#                 print(i,end=' ')\n",
    "#             single_insert(conn, query)\n",
    "#         conn.commit()\n",
    "#         print('\\nSuccessfully inserted dataframe into the table')\n",
    "        \n",
    "#     table = 'cdp.cltv'\n",
    "#     drop_table(con,table)\n",
    "#     create_table(con,table)\n",
    "#     insert_dataframe(cltv_final,con,table)\n",
    "\n",
    "# if __name__ == '__main__':\n",
    "\n",
    "#     # start cltv\n",
    "#     cltv_final = start_cltv()\n",
    "\n",
    "#     # load data into database\n",
    "#     load_db(cltv_final)\n"
   ]
  }
 ],
 "metadata": {
  "kernelspec": {
   "display_name": "conda_python3",
   "language": "python",
   "name": "conda_python3"
  },
  "language_info": {
   "codemirror_mode": {
    "name": "ipython",
    "version": 3
   },
   "file_extension": ".py",
   "mimetype": "text/x-python",
   "name": "python",
   "nbconvert_exporter": "python",
   "pygments_lexer": "ipython3",
   "version": "3.6.13"
  }
 },
 "nbformat": 4,
 "nbformat_minor": 4
}
