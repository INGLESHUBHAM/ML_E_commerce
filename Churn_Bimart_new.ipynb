{
 "cells": [
  {
   "cell_type": "code",
   "execution_count": 1,
   "metadata": {},
   "outputs": [],
   "source": [
    "import warnings\n",
    "warnings.filterwarnings(\"ignore\")\n",
    "\n",
    "import matplotlib.pyplot as plt\n",
    "import pandas as pd\n",
    "import numpy as np\n",
    "import seaborn as sns\n"
   ]
  },
  {
   "cell_type": "code",
   "execution_count": 2,
   "metadata": {},
   "outputs": [],
   "source": [
    "import psycopg2\n",
    "con=psycopg2.connect(dbname= 'dev', host='mantix-cluster.cgzkthavydhk.us-east-2.redshift.amazonaws.com', \n",
    "port= '5439', user= 'mantix', password= 'Mantix123!')\n",
    "cur = con.cursor()"
   ]
  },
  {
   "cell_type": "code",
   "execution_count": 3,
   "metadata": {},
   "outputs": [],
   "source": [
    "query = \"\"\"(SELECT DISTINCT customer_account_id,\n",
    "                               DATEDIFF(DAY,MAX(submitted_date),'2022-02-16') AS days_since_last_transaction,\n",
    "                               COUNT(*) AS toal_purchases,\n",
    "                               SUM(total) AS total_amount\n",
    "                        FROM cdp.orders_data\n",
    "                        WHERE tenant_id = 'TNB00001'\n",
    "                        AND   store_id = 'STOM000000001'\n",
    "                        AND    status NOT IN ('Abandoned','Errored','Pending','PendingReview','Cancelled','null')\n",
    "                        GROUP BY customer_account_id)\"\"\""
   ]
  },
  {
   "cell_type": "code",
   "execution_count": 4,
   "metadata": {},
   "outputs": [],
   "source": [
    "b = pd.read_sql(query,con)"
   ]
  },
  {
   "cell_type": "code",
   "execution_count": 5,
   "metadata": {},
   "outputs": [
    {
     "data": {
      "text/html": [
       "<div>\n",
       "<style scoped>\n",
       "    .dataframe tbody tr th:only-of-type {\n",
       "        vertical-align: middle;\n",
       "    }\n",
       "\n",
       "    .dataframe tbody tr th {\n",
       "        vertical-align: top;\n",
       "    }\n",
       "\n",
       "    .dataframe thead th {\n",
       "        text-align: right;\n",
       "    }\n",
       "</style>\n",
       "<table border=\"1\" class=\"dataframe\">\n",
       "  <thead>\n",
       "    <tr style=\"text-align: right;\">\n",
       "      <th></th>\n",
       "      <th>customer_account_id</th>\n",
       "      <th>days_since_last_transaction</th>\n",
       "      <th>toal_purchases</th>\n",
       "      <th>total_amount</th>\n",
       "    </tr>\n",
       "  </thead>\n",
       "  <tbody>\n",
       "    <tr>\n",
       "      <th>0</th>\n",
       "      <td>2b59397433c144e3b6c05cf0f1c2fcb8</td>\n",
       "      <td>190</td>\n",
       "      <td>1</td>\n",
       "      <td>37.48</td>\n",
       "    </tr>\n",
       "    <tr>\n",
       "      <th>1</th>\n",
       "      <td>467da31318cd46b78bfc56eab4272b53</td>\n",
       "      <td>-22</td>\n",
       "      <td>1</td>\n",
       "      <td>18.01</td>\n",
       "    </tr>\n",
       "    <tr>\n",
       "      <th>2</th>\n",
       "      <td>051b1d2c86c84fbfb676cba15319982e</td>\n",
       "      <td>55</td>\n",
       "      <td>1</td>\n",
       "      <td>47.98</td>\n",
       "    </tr>\n",
       "    <tr>\n",
       "      <th>3</th>\n",
       "      <td>4851cf77aa8d4c57a3708691c6abdb67</td>\n",
       "      <td>-105</td>\n",
       "      <td>8</td>\n",
       "      <td>478.30</td>\n",
       "    </tr>\n",
       "    <tr>\n",
       "      <th>4</th>\n",
       "      <td>3eb78bebf69240aabe2707d89c7c31dd</td>\n",
       "      <td>-95</td>\n",
       "      <td>2</td>\n",
       "      <td>757.87</td>\n",
       "    </tr>\n",
       "    <tr>\n",
       "      <th>...</th>\n",
       "      <td>...</td>\n",
       "      <td>...</td>\n",
       "      <td>...</td>\n",
       "      <td>...</td>\n",
       "    </tr>\n",
       "    <tr>\n",
       "      <th>17353</th>\n",
       "      <td>53b508a94de2467481e7c273eb336686</td>\n",
       "      <td>31</td>\n",
       "      <td>1</td>\n",
       "      <td>21.15</td>\n",
       "    </tr>\n",
       "    <tr>\n",
       "      <th>17354</th>\n",
       "      <td>cc3b3ad4f8e64f7eb2bd0397bbbce3d9</td>\n",
       "      <td>9</td>\n",
       "      <td>1</td>\n",
       "      <td>53.91</td>\n",
       "    </tr>\n",
       "    <tr>\n",
       "      <th>17355</th>\n",
       "      <td>b681fd7fc40e43d893b148a3e1735352</td>\n",
       "      <td>3</td>\n",
       "      <td>1</td>\n",
       "      <td>267.29</td>\n",
       "    </tr>\n",
       "    <tr>\n",
       "      <th>17356</th>\n",
       "      <td>bc7cd4f52779446880f63af9cf511e0f</td>\n",
       "      <td>-8</td>\n",
       "      <td>1</td>\n",
       "      <td>69.98</td>\n",
       "    </tr>\n",
       "    <tr>\n",
       "      <th>17357</th>\n",
       "      <td>c2f80479de3741f1841d3938dbeab5f2</td>\n",
       "      <td>-192</td>\n",
       "      <td>1</td>\n",
       "      <td>39.98</td>\n",
       "    </tr>\n",
       "  </tbody>\n",
       "</table>\n",
       "<p>17358 rows × 4 columns</p>\n",
       "</div>"
      ],
      "text/plain": [
       "                    customer_account_id  days_since_last_transaction  \\\n",
       "0      2b59397433c144e3b6c05cf0f1c2fcb8                          190   \n",
       "1      467da31318cd46b78bfc56eab4272b53                          -22   \n",
       "2      051b1d2c86c84fbfb676cba15319982e                           55   \n",
       "3      4851cf77aa8d4c57a3708691c6abdb67                         -105   \n",
       "4      3eb78bebf69240aabe2707d89c7c31dd                          -95   \n",
       "...                                 ...                          ...   \n",
       "17353  53b508a94de2467481e7c273eb336686                           31   \n",
       "17354  cc3b3ad4f8e64f7eb2bd0397bbbce3d9                            9   \n",
       "17355  b681fd7fc40e43d893b148a3e1735352                            3   \n",
       "17356  bc7cd4f52779446880f63af9cf511e0f                           -8   \n",
       "17357  c2f80479de3741f1841d3938dbeab5f2                         -192   \n",
       "\n",
       "       toal_purchases  total_amount  \n",
       "0                   1         37.48  \n",
       "1                   1         18.01  \n",
       "2                   1         47.98  \n",
       "3                   8        478.30  \n",
       "4                   2        757.87  \n",
       "...               ...           ...  \n",
       "17353               1         21.15  \n",
       "17354               1         53.91  \n",
       "17355               1        267.29  \n",
       "17356               1         69.98  \n",
       "17357               1         39.98  \n",
       "\n",
       "[17358 rows x 4 columns]"
      ]
     },
     "execution_count": 5,
     "metadata": {},
     "output_type": "execute_result"
    }
   ],
   "source": [
    "b"
   ]
  },
  {
   "cell_type": "code",
   "execution_count": 6,
   "metadata": {},
   "outputs": [],
   "source": [
    "b['total_amount'] = b['total_amount'].fillna(0)"
   ]
  },
  {
   "cell_type": "code",
   "execution_count": 7,
   "metadata": {},
   "outputs": [],
   "source": [
    "row_indexes=b[b['days_since_last_transaction']>=90].index\n",
    "b.loc[row_indexes,'churn']= 1\n"
   ]
  },
  {
   "cell_type": "code",
   "execution_count": 8,
   "metadata": {},
   "outputs": [],
   "source": [
    "b['churn'] = b['churn'].fillna(0)"
   ]
  },
  {
   "cell_type": "code",
   "execution_count": 9,
   "metadata": {},
   "outputs": [
    {
     "data": {
      "text/plain": [
       "0.0    13009\n",
       "1.0     4349\n",
       "Name: churn, dtype: int64"
      ]
     },
     "execution_count": 9,
     "metadata": {},
     "output_type": "execute_result"
    }
   ],
   "source": [
    "b.churn.value_counts()"
   ]
  },
  {
   "cell_type": "code",
   "execution_count": 10,
   "metadata": {},
   "outputs": [],
   "source": [
    "b['churn'] = b['churn'].astype('category')"
   ]
  },
  {
   "cell_type": "code",
   "execution_count": 11,
   "metadata": {},
   "outputs": [
    {
     "name": "stdout",
     "output_type": "stream",
     "text": [
      "     count  percentage\n",
      "0.0  13009    74.94527\n",
      "1.0   4349    25.05473\n"
     ]
    }
   ],
   "source": [
    "response = pd.DataFrame()\n",
    "response['count'] = b.churn.value_counts()\n",
    "response['percentage'] = (response['count'] / response['count'].sum()) * 100\n",
    "print(response)"
   ]
  },
  {
   "cell_type": "code",
   "execution_count": 12,
   "metadata": {},
   "outputs": [
    {
     "data": {
      "text/plain": [
       "(17358, 5)"
      ]
     },
     "execution_count": 12,
     "metadata": {},
     "output_type": "execute_result"
    }
   ],
   "source": [
    "b.shape"
   ]
  },
  {
   "cell_type": "code",
   "execution_count": 13,
   "metadata": {},
   "outputs": [],
   "source": [
    "b = b.dropna()"
   ]
  },
  {
   "cell_type": "code",
   "execution_count": 14,
   "metadata": {},
   "outputs": [
    {
     "data": {
      "text/plain": [
       "(17358, 5)"
      ]
     },
     "execution_count": 14,
     "metadata": {},
     "output_type": "execute_result"
    }
   ],
   "source": [
    "b.shape"
   ]
  },
  {
   "cell_type": "code",
   "execution_count": 15,
   "metadata": {},
   "outputs": [
    {
     "data": {
      "text/html": [
       "<div>\n",
       "<style scoped>\n",
       "    .dataframe tbody tr th:only-of-type {\n",
       "        vertical-align: middle;\n",
       "    }\n",
       "\n",
       "    .dataframe tbody tr th {\n",
       "        vertical-align: top;\n",
       "    }\n",
       "\n",
       "    .dataframe thead th {\n",
       "        text-align: right;\n",
       "    }\n",
       "</style>\n",
       "<table border=\"1\" class=\"dataframe\">\n",
       "  <thead>\n",
       "    <tr style=\"text-align: right;\">\n",
       "      <th></th>\n",
       "      <th>customer_account_id</th>\n",
       "      <th>days_since_last_transaction</th>\n",
       "      <th>toal_purchases</th>\n",
       "      <th>total_amount</th>\n",
       "      <th>churn</th>\n",
       "    </tr>\n",
       "  </thead>\n",
       "  <tbody>\n",
       "    <tr>\n",
       "      <th>0</th>\n",
       "      <td>2b59397433c144e3b6c05cf0f1c2fcb8</td>\n",
       "      <td>190</td>\n",
       "      <td>1</td>\n",
       "      <td>37.48</td>\n",
       "      <td>1.0</td>\n",
       "    </tr>\n",
       "    <tr>\n",
       "      <th>1</th>\n",
       "      <td>467da31318cd46b78bfc56eab4272b53</td>\n",
       "      <td>-22</td>\n",
       "      <td>1</td>\n",
       "      <td>18.01</td>\n",
       "      <td>0.0</td>\n",
       "    </tr>\n",
       "    <tr>\n",
       "      <th>2</th>\n",
       "      <td>051b1d2c86c84fbfb676cba15319982e</td>\n",
       "      <td>55</td>\n",
       "      <td>1</td>\n",
       "      <td>47.98</td>\n",
       "      <td>0.0</td>\n",
       "    </tr>\n",
       "    <tr>\n",
       "      <th>3</th>\n",
       "      <td>4851cf77aa8d4c57a3708691c6abdb67</td>\n",
       "      <td>-105</td>\n",
       "      <td>8</td>\n",
       "      <td>478.30</td>\n",
       "      <td>0.0</td>\n",
       "    </tr>\n",
       "    <tr>\n",
       "      <th>4</th>\n",
       "      <td>3eb78bebf69240aabe2707d89c7c31dd</td>\n",
       "      <td>-95</td>\n",
       "      <td>2</td>\n",
       "      <td>757.87</td>\n",
       "      <td>0.0</td>\n",
       "    </tr>\n",
       "  </tbody>\n",
       "</table>\n",
       "</div>"
      ],
      "text/plain": [
       "                customer_account_id  days_since_last_transaction  \\\n",
       "0  2b59397433c144e3b6c05cf0f1c2fcb8                          190   \n",
       "1  467da31318cd46b78bfc56eab4272b53                          -22   \n",
       "2  051b1d2c86c84fbfb676cba15319982e                           55   \n",
       "3  4851cf77aa8d4c57a3708691c6abdb67                         -105   \n",
       "4  3eb78bebf69240aabe2707d89c7c31dd                          -95   \n",
       "\n",
       "   toal_purchases  total_amount churn  \n",
       "0               1         37.48   1.0  \n",
       "1               1         18.01   0.0  \n",
       "2               1         47.98   0.0  \n",
       "3               8        478.30   0.0  \n",
       "4               2        757.87   0.0  "
      ]
     },
     "execution_count": 15,
     "metadata": {},
     "output_type": "execute_result"
    }
   ],
   "source": [
    "b.head()"
   ]
  },
  {
   "cell_type": "code",
   "execution_count": 16,
   "metadata": {},
   "outputs": [],
   "source": [
    "#setting our training and test set\n",
    "training_set = b.drop(['churn','days_since_last_transaction','customer_account_id'], axis=1)\n",
    "target_var = b['churn'].values"
   ]
  },
  {
   "cell_type": "code",
   "execution_count": 17,
   "metadata": {},
   "outputs": [
    {
     "data": {
      "text/plain": [
       "(17358, 2)"
      ]
     },
     "execution_count": 17,
     "metadata": {},
     "output_type": "execute_result"
    }
   ],
   "source": [
    "training_set.shape"
   ]
  },
  {
   "cell_type": "code",
   "execution_count": 18,
   "metadata": {},
   "outputs": [],
   "source": [
    "#splitting our data...\n",
    "from sklearn.model_selection import train_test_split\n",
    "xtrain,xtest, ytrain, ytest = train_test_split(training_set, target_var, test_size=0.3, random_state=0)"
   ]
  },
  {
   "cell_type": "code",
   "execution_count": 19,
   "metadata": {},
   "outputs": [
    {
     "name": "stdout",
     "output_type": "stream",
     "text": [
      "Training accuracy: 76.69\n",
      "Test accuracy    : 74.31\n",
      "\n",
      "Confusion matrix..\n",
      "[[3825   54]\n",
      " [1284   45]]\n",
      "\n",
      "              precision    recall  f1-score   support\n",
      "\n",
      "         0.0       0.75      0.99      0.85      3879\n",
      "         1.0       0.45      0.03      0.06      1329\n",
      "\n",
      "    accuracy                           0.74      5208\n",
      "   macro avg       0.60      0.51      0.46      5208\n",
      "weighted avg       0.67      0.74      0.65      5208\n",
      "\n"
     ]
    }
   ],
   "source": [
    "from sklearn.ensemble import GradientBoostingClassifier\n",
    "from sklearn.metrics import mean_squared_error, confusion_matrix, classification_report\n",
    "gbr = GradientBoostingClassifier(n_estimators = 500)\n",
    "gbr.fit(xtrain,ytrain)\n",
    "prediction_gbr = gbr.predict(xtest)\n",
    "print(\"Training accuracy: %.2f\" %(gbr.score(xtrain, ytrain) * 100))\n",
    "print(\"Test accuracy    : %.2f\" %(gbr.score(xtest, ytest) * 100))\n",
    "print(\"\")\n",
    "print(\"Confusion matrix..\")\n",
    "print(confusion_matrix(ytest, prediction_gbr))\n",
    "print(\"\")\n",
    "print(classification_report(ytest, prediction_gbr))"
   ]
  },
  {
   "cell_type": "code",
   "execution_count": 20,
   "metadata": {
    "collapsed": true,
    "jupyter": {
     "outputs_hidden": true
    }
   },
   "outputs": [
    {
     "name": "stdout",
     "output_type": "stream",
     "text": [
      "Training accuracy: 83.98\n",
      "Test accuracy    : 70.22\n"
     ]
    },
    {
     "ename": "ValueError",
     "evalue": "y_true and y_pred have different number of output (1!=2)",
     "output_type": "error",
     "traceback": [
      "\u001b[1;31m---------------------------------------------------------------------------\u001b[0m",
      "\u001b[1;31mValueError\u001b[0m                                Traceback (most recent call last)",
      "\u001b[1;32m<ipython-input-20-1536219825d5>\u001b[0m in \u001b[0;36m<module>\u001b[1;34m\u001b[0m\n\u001b[0;32m      5\u001b[0m \u001b[0mprint\u001b[0m\u001b[1;33m(\u001b[0m\u001b[1;34m\"Training accuracy: %.2f\"\u001b[0m \u001b[1;33m%\u001b[0m\u001b[1;33m(\u001b[0m\u001b[0mrandom_forest\u001b[0m\u001b[1;33m.\u001b[0m\u001b[0mscore\u001b[0m\u001b[1;33m(\u001b[0m\u001b[0mxtrain\u001b[0m\u001b[1;33m,\u001b[0m \u001b[0mytrain\u001b[0m\u001b[1;33m)\u001b[0m \u001b[1;33m*\u001b[0m \u001b[1;36m100\u001b[0m\u001b[1;33m)\u001b[0m\u001b[1;33m)\u001b[0m\u001b[1;33m\u001b[0m\u001b[1;33m\u001b[0m\u001b[0m\n\u001b[0;32m      6\u001b[0m \u001b[0mprint\u001b[0m\u001b[1;33m(\u001b[0m\u001b[1;34m\"Test accuracy    : %.2f\"\u001b[0m \u001b[1;33m%\u001b[0m\u001b[1;33m(\u001b[0m\u001b[0mrandom_forest\u001b[0m\u001b[1;33m.\u001b[0m\u001b[0mscore\u001b[0m\u001b[1;33m(\u001b[0m\u001b[0mxtest\u001b[0m\u001b[1;33m,\u001b[0m \u001b[0mytest\u001b[0m\u001b[1;33m)\u001b[0m \u001b[1;33m*\u001b[0m \u001b[1;36m100\u001b[0m\u001b[1;33m)\u001b[0m\u001b[1;33m)\u001b[0m\u001b[1;33m\u001b[0m\u001b[1;33m\u001b[0m\u001b[0m\n\u001b[1;32m----> 7\u001b[1;33m \u001b[0mprint\u001b[0m\u001b[1;33m(\u001b[0m\u001b[1;34m\"Test RMSE        : %.2f\"\u001b[0m \u001b[1;33m%\u001b[0m\u001b[1;33m(\u001b[0m\u001b[0mnp\u001b[0m\u001b[1;33m.\u001b[0m\u001b[0msqrt\u001b[0m\u001b[1;33m(\u001b[0m\u001b[0mmean_squared_error\u001b[0m\u001b[1;33m(\u001b[0m\u001b[0mytest\u001b[0m\u001b[1;33m,\u001b[0m \u001b[0mprediction_rf\u001b[0m\u001b[1;33m)\u001b[0m\u001b[1;33m)\u001b[0m\u001b[1;33m)\u001b[0m\u001b[1;33m)\u001b[0m\u001b[1;33m\u001b[0m\u001b[1;33m\u001b[0m\u001b[0m\n\u001b[0m\u001b[0;32m      8\u001b[0m \u001b[0mprint\u001b[0m\u001b[1;33m(\u001b[0m\u001b[1;34m\"\"\u001b[0m\u001b[1;33m)\u001b[0m\u001b[1;33m\u001b[0m\u001b[1;33m\u001b[0m\u001b[0m\n\u001b[0;32m      9\u001b[0m \u001b[0mprint\u001b[0m\u001b[1;33m(\u001b[0m\u001b[1;34m\"Confusion matrix..\"\u001b[0m\u001b[1;33m)\u001b[0m\u001b[1;33m\u001b[0m\u001b[1;33m\u001b[0m\u001b[0m\n",
      "\u001b[1;32m~\\anaconda3\\lib\\site-packages\\sklearn\\utils\\validation.py\u001b[0m in \u001b[0;36minner_f\u001b[1;34m(*args, **kwargs)\u001b[0m\n\u001b[0;32m     71\u001b[0m                           FutureWarning)\n\u001b[0;32m     72\u001b[0m         \u001b[0mkwargs\u001b[0m\u001b[1;33m.\u001b[0m\u001b[0mupdate\u001b[0m\u001b[1;33m(\u001b[0m\u001b[1;33m{\u001b[0m\u001b[0mk\u001b[0m\u001b[1;33m:\u001b[0m \u001b[0marg\u001b[0m \u001b[1;32mfor\u001b[0m \u001b[0mk\u001b[0m\u001b[1;33m,\u001b[0m \u001b[0marg\u001b[0m \u001b[1;32min\u001b[0m \u001b[0mzip\u001b[0m\u001b[1;33m(\u001b[0m\u001b[0msig\u001b[0m\u001b[1;33m.\u001b[0m\u001b[0mparameters\u001b[0m\u001b[1;33m,\u001b[0m \u001b[0margs\u001b[0m\u001b[1;33m)\u001b[0m\u001b[1;33m}\u001b[0m\u001b[1;33m)\u001b[0m\u001b[1;33m\u001b[0m\u001b[1;33m\u001b[0m\u001b[0m\n\u001b[1;32m---> 73\u001b[1;33m         \u001b[1;32mreturn\u001b[0m \u001b[0mf\u001b[0m\u001b[1;33m(\u001b[0m\u001b[1;33m**\u001b[0m\u001b[0mkwargs\u001b[0m\u001b[1;33m)\u001b[0m\u001b[1;33m\u001b[0m\u001b[1;33m\u001b[0m\u001b[0m\n\u001b[0m\u001b[0;32m     74\u001b[0m     \u001b[1;32mreturn\u001b[0m \u001b[0minner_f\u001b[0m\u001b[1;33m\u001b[0m\u001b[1;33m\u001b[0m\u001b[0m\n\u001b[0;32m     75\u001b[0m \u001b[1;33m\u001b[0m\u001b[0m\n",
      "\u001b[1;32m~\\anaconda3\\lib\\site-packages\\sklearn\\metrics\\_regression.py\u001b[0m in \u001b[0;36mmean_squared_error\u001b[1;34m(y_true, y_pred, sample_weight, multioutput, squared)\u001b[0m\n\u001b[0;32m    251\u001b[0m \u001b[1;33m\u001b[0m\u001b[0m\n\u001b[0;32m    252\u001b[0m     \"\"\"\n\u001b[1;32m--> 253\u001b[1;33m     y_type, y_true, y_pred, multioutput = _check_reg_targets(\n\u001b[0m\u001b[0;32m    254\u001b[0m         y_true, y_pred, multioutput)\n\u001b[0;32m    255\u001b[0m     \u001b[0mcheck_consistent_length\u001b[0m\u001b[1;33m(\u001b[0m\u001b[0my_true\u001b[0m\u001b[1;33m,\u001b[0m \u001b[0my_pred\u001b[0m\u001b[1;33m,\u001b[0m \u001b[0msample_weight\u001b[0m\u001b[1;33m)\u001b[0m\u001b[1;33m\u001b[0m\u001b[1;33m\u001b[0m\u001b[0m\n",
      "\u001b[1;32m~\\anaconda3\\lib\\site-packages\\sklearn\\metrics\\_regression.py\u001b[0m in \u001b[0;36m_check_reg_targets\u001b[1;34m(y_true, y_pred, multioutput, dtype)\u001b[0m\n\u001b[0;32m     93\u001b[0m \u001b[1;33m\u001b[0m\u001b[0m\n\u001b[0;32m     94\u001b[0m     \u001b[1;32mif\u001b[0m \u001b[0my_true\u001b[0m\u001b[1;33m.\u001b[0m\u001b[0mshape\u001b[0m\u001b[1;33m[\u001b[0m\u001b[1;36m1\u001b[0m\u001b[1;33m]\u001b[0m \u001b[1;33m!=\u001b[0m \u001b[0my_pred\u001b[0m\u001b[1;33m.\u001b[0m\u001b[0mshape\u001b[0m\u001b[1;33m[\u001b[0m\u001b[1;36m1\u001b[0m\u001b[1;33m]\u001b[0m\u001b[1;33m:\u001b[0m\u001b[1;33m\u001b[0m\u001b[1;33m\u001b[0m\u001b[0m\n\u001b[1;32m---> 95\u001b[1;33m         raise ValueError(\"y_true and y_pred have different number of output \"\n\u001b[0m\u001b[0;32m     96\u001b[0m                          \"({0}!={1})\".format(y_true.shape[1], y_pred.shape[1]))\n\u001b[0;32m     97\u001b[0m \u001b[1;33m\u001b[0m\u001b[0m\n",
      "\u001b[1;31mValueError\u001b[0m: y_true and y_pred have different number of output (1!=2)"
     ]
    }
   ],
   "source": [
    "from sklearn.ensemble import RandomForestClassifier\n",
    "random_forest = RandomForestClassifier(n_estimators = 500)\n",
    "random_forest.fit(xtrain,ytrain)\n",
    "prediction_rf = random_forest.predict_proba(xtest)\n",
    "print(\"Training accuracy: %.2f\" %(random_forest.score(xtrain, ytrain) * 100))\n",
    "print(\"Test accuracy    : %.2f\" %(random_forest.score(xtest, ytest) * 100))\n",
    "print(\"Test RMSE        : %.2f\" %(np.sqrt(mean_squared_error(ytest, prediction_rf))))\n",
    "print(\"\")\n",
    "print(\"Confusion matrix..\")\n",
    "print(confusion_matrix(ytest, prediction_rf))\n",
    "print(\"\")\n",
    "print(classification_report(ytest, prediction_rf))"
   ]
  },
  {
   "cell_type": "code",
   "execution_count": 21,
   "metadata": {},
   "outputs": [],
   "source": [
    "import joblib\n",
    "joblib.dump(random_forest, 'Bimart_churn.pkl') \n",
    "rf_prop = joblib.load('Bimart_churn.pkl') "
   ]
  },
  {
   "cell_type": "code",
   "execution_count": 22,
   "metadata": {},
   "outputs": [],
   "source": [
    "prediction_rf = random_forest.predict_proba(training_set)"
   ]
  },
  {
   "cell_type": "code",
   "execution_count": 23,
   "metadata": {},
   "outputs": [],
   "source": [
    "prediction_rf_df = pd.DataFrame(data = prediction_rf)"
   ]
  },
  {
   "cell_type": "code",
   "execution_count": 24,
   "metadata": {},
   "outputs": [
    {
     "data": {
      "text/html": [
       "<div>\n",
       "<style scoped>\n",
       "    .dataframe tbody tr th:only-of-type {\n",
       "        vertical-align: middle;\n",
       "    }\n",
       "\n",
       "    .dataframe tbody tr th {\n",
       "        vertical-align: top;\n",
       "    }\n",
       "\n",
       "    .dataframe thead th {\n",
       "        text-align: right;\n",
       "    }\n",
       "</style>\n",
       "<table border=\"1\" class=\"dataframe\">\n",
       "  <thead>\n",
       "    <tr style=\"text-align: right;\">\n",
       "      <th></th>\n",
       "      <th>0</th>\n",
       "      <th>1</th>\n",
       "    </tr>\n",
       "  </thead>\n",
       "  <tbody>\n",
       "    <tr>\n",
       "      <th>0</th>\n",
       "      <td>0.673491</td>\n",
       "      <td>0.326509</td>\n",
       "    </tr>\n",
       "    <tr>\n",
       "      <th>1</th>\n",
       "      <td>0.995919</td>\n",
       "      <td>0.004081</td>\n",
       "    </tr>\n",
       "    <tr>\n",
       "      <th>2</th>\n",
       "      <td>1.000000</td>\n",
       "      <td>0.000000</td>\n",
       "    </tr>\n",
       "    <tr>\n",
       "      <th>3</th>\n",
       "      <td>1.000000</td>\n",
       "      <td>0.000000</td>\n",
       "    </tr>\n",
       "    <tr>\n",
       "      <th>4</th>\n",
       "      <td>0.994000</td>\n",
       "      <td>0.006000</td>\n",
       "    </tr>\n",
       "  </tbody>\n",
       "</table>\n",
       "</div>"
      ],
      "text/plain": [
       "          0         1\n",
       "0  0.673491  0.326509\n",
       "1  0.995919  0.004081\n",
       "2  1.000000  0.000000\n",
       "3  1.000000  0.000000\n",
       "4  0.994000  0.006000"
      ]
     },
     "execution_count": 24,
     "metadata": {},
     "output_type": "execute_result"
    }
   ],
   "source": [
    "prediction_rf_df.head()"
   ]
  },
  {
   "cell_type": "code",
   "execution_count": 25,
   "metadata": {},
   "outputs": [],
   "source": [
    "prediction_rf_df = prediction_rf_df.rename(columns={prediction_rf_df.columns[1]: 'churn_prediction'})"
   ]
  },
  {
   "cell_type": "code",
   "execution_count": 26,
   "metadata": {},
   "outputs": [
    {
     "data": {
      "text/plain": [
       "(17358, 5)"
      ]
     },
     "execution_count": 26,
     "metadata": {},
     "output_type": "execute_result"
    }
   ],
   "source": [
    "b.shape"
   ]
  },
  {
   "cell_type": "code",
   "execution_count": 66,
   "metadata": {},
   "outputs": [],
   "source": [
    "b['churn_prediction'] = prediction_rf_df.iloc[1]"
   ]
  },
  {
   "cell_type": "code",
   "execution_count": 67,
   "metadata": {},
   "outputs": [
    {
     "data": {
      "text/html": [
       "<div>\n",
       "<style scoped>\n",
       "    .dataframe tbody tr th:only-of-type {\n",
       "        vertical-align: middle;\n",
       "    }\n",
       "\n",
       "    .dataframe tbody tr th {\n",
       "        vertical-align: top;\n",
       "    }\n",
       "\n",
       "    .dataframe thead th {\n",
       "        text-align: right;\n",
       "    }\n",
       "</style>\n",
       "<table border=\"1\" class=\"dataframe\">\n",
       "  <thead>\n",
       "    <tr style=\"text-align: right;\">\n",
       "      <th></th>\n",
       "      <th>customer_account_id</th>\n",
       "      <th>days_since_last_transaction</th>\n",
       "      <th>toal_purchases</th>\n",
       "      <th>total_amount</th>\n",
       "      <th>churn</th>\n",
       "      <th>churn_prediction</th>\n",
       "    </tr>\n",
       "  </thead>\n",
       "  <tbody>\n",
       "    <tr>\n",
       "      <th>0</th>\n",
       "      <td>a27edc0cf0c54dd4bc6d723ef9d2358a</td>\n",
       "      <td>-197</td>\n",
       "      <td>9</td>\n",
       "      <td>281.61</td>\n",
       "      <td>0.0</td>\n",
       "      <td>0.9044</td>\n",
       "    </tr>\n",
       "    <tr>\n",
       "      <th>1</th>\n",
       "      <td>ffcd62266a654613907e2751c0b71938</td>\n",
       "      <td>-76</td>\n",
       "      <td>1</td>\n",
       "      <td>47.71</td>\n",
       "      <td>0.0</td>\n",
       "      <td>0.0956</td>\n",
       "    </tr>\n",
       "    <tr>\n",
       "      <th>2</th>\n",
       "      <td>817aaae2d0a44ad894c2ac8ac1cdf5c4</td>\n",
       "      <td>-13</td>\n",
       "      <td>1</td>\n",
       "      <td>5.00</td>\n",
       "      <td>0.0</td>\n",
       "      <td>NaN</td>\n",
       "    </tr>\n",
       "    <tr>\n",
       "      <th>3</th>\n",
       "      <td>8bf8c7fc40d34d1b818dc0bb2f5ffb20</td>\n",
       "      <td>-193</td>\n",
       "      <td>11</td>\n",
       "      <td>831.45</td>\n",
       "      <td>0.0</td>\n",
       "      <td>NaN</td>\n",
       "    </tr>\n",
       "    <tr>\n",
       "      <th>4</th>\n",
       "      <td>3912ff1f397e466d9af473be9ccf3885</td>\n",
       "      <td>94</td>\n",
       "      <td>1</td>\n",
       "      <td>5.00</td>\n",
       "      <td>1.0</td>\n",
       "      <td>NaN</td>\n",
       "    </tr>\n",
       "  </tbody>\n",
       "</table>\n",
       "</div>"
      ],
      "text/plain": [
       "                customer_account_id  days_since_last_transaction  \\\n",
       "0  a27edc0cf0c54dd4bc6d723ef9d2358a                         -197   \n",
       "1  ffcd62266a654613907e2751c0b71938                          -76   \n",
       "2  817aaae2d0a44ad894c2ac8ac1cdf5c4                          -13   \n",
       "3  8bf8c7fc40d34d1b818dc0bb2f5ffb20                         -193   \n",
       "4  3912ff1f397e466d9af473be9ccf3885                           94   \n",
       "\n",
       "   toal_purchases  total_amount churn  churn_prediction  \n",
       "0               9        281.61   0.0            0.9044  \n",
       "1               1         47.71   0.0            0.0956  \n",
       "2               1          5.00   0.0               NaN  \n",
       "3              11        831.45   0.0               NaN  \n",
       "4               1          5.00   1.0               NaN  "
      ]
     },
     "execution_count": 67,
     "metadata": {},
     "output_type": "execute_result"
    }
   ],
   "source": [
    "b.head()"
   ]
  },
  {
   "cell_type": "code",
   "execution_count": 28,
   "metadata": {},
   "outputs": [],
   "source": [
    "prediction_rf_df['customer_account_id'] = prediction_rf_df.iloc[0]"
   ]
  },
  {
   "cell_type": "code",
   "execution_count": 29,
   "metadata": {},
   "outputs": [
    {
     "data": {
      "text/html": [
       "<div>\n",
       "<style scoped>\n",
       "    .dataframe tbody tr th:only-of-type {\n",
       "        vertical-align: middle;\n",
       "    }\n",
       "\n",
       "    .dataframe tbody tr th {\n",
       "        vertical-align: top;\n",
       "    }\n",
       "\n",
       "    .dataframe thead th {\n",
       "        text-align: right;\n",
       "    }\n",
       "</style>\n",
       "<table border=\"1\" class=\"dataframe\">\n",
       "  <thead>\n",
       "    <tr style=\"text-align: right;\">\n",
       "      <th></th>\n",
       "      <th>0</th>\n",
       "      <th>churn_prediction</th>\n",
       "      <th>customer_account_id</th>\n",
       "    </tr>\n",
       "  </thead>\n",
       "  <tbody>\n",
       "    <tr>\n",
       "      <th>0</th>\n",
       "      <td>0.673491</td>\n",
       "      <td>0.326509</td>\n",
       "      <td>0.673491</td>\n",
       "    </tr>\n",
       "    <tr>\n",
       "      <th>1</th>\n",
       "      <td>0.995919</td>\n",
       "      <td>0.004081</td>\n",
       "      <td>NaN</td>\n",
       "    </tr>\n",
       "    <tr>\n",
       "      <th>2</th>\n",
       "      <td>1.000000</td>\n",
       "      <td>0.000000</td>\n",
       "      <td>NaN</td>\n",
       "    </tr>\n",
       "    <tr>\n",
       "      <th>3</th>\n",
       "      <td>1.000000</td>\n",
       "      <td>0.000000</td>\n",
       "      <td>NaN</td>\n",
       "    </tr>\n",
       "    <tr>\n",
       "      <th>4</th>\n",
       "      <td>0.994000</td>\n",
       "      <td>0.006000</td>\n",
       "      <td>NaN</td>\n",
       "    </tr>\n",
       "  </tbody>\n",
       "</table>\n",
       "</div>"
      ],
      "text/plain": [
       "          0  churn_prediction  customer_account_id\n",
       "0  0.673491          0.326509             0.673491\n",
       "1  0.995919          0.004081                  NaN\n",
       "2  1.000000          0.000000                  NaN\n",
       "3  1.000000          0.000000                  NaN\n",
       "4  0.994000          0.006000                  NaN"
      ]
     },
     "execution_count": 29,
     "metadata": {},
     "output_type": "execute_result"
    }
   ],
   "source": [
    "prediction_rf_df.head()"
   ]
  },
  {
   "cell_type": "code",
   "execution_count": 30,
   "metadata": {},
   "outputs": [],
   "source": [
    "new_df = b.merge(prediction_rf_df, left_index=True, right_index=True, how='inner')"
   ]
  },
  {
   "cell_type": "code",
   "execution_count": 32,
   "metadata": {},
   "outputs": [],
   "source": [
    "results_df = new_df[['customer_account_id_x','churn_prediction']]"
   ]
  },
  {
   "cell_type": "code",
   "execution_count": 33,
   "metadata": {},
   "outputs": [],
   "source": [
    "results_df = results_df.rename(columns={'customer_account_id_x': 'customer_account_id'})"
   ]
  },
  {
   "cell_type": "code",
   "execution_count": 34,
   "metadata": {},
   "outputs": [
    {
     "data": {
      "text/html": [
       "<div>\n",
       "<style scoped>\n",
       "    .dataframe tbody tr th:only-of-type {\n",
       "        vertical-align: middle;\n",
       "    }\n",
       "\n",
       "    .dataframe tbody tr th {\n",
       "        vertical-align: top;\n",
       "    }\n",
       "\n",
       "    .dataframe thead th {\n",
       "        text-align: right;\n",
       "    }\n",
       "</style>\n",
       "<table border=\"1\" class=\"dataframe\">\n",
       "  <thead>\n",
       "    <tr style=\"text-align: right;\">\n",
       "      <th></th>\n",
       "      <th>customer_account_id</th>\n",
       "      <th>churn_prediction</th>\n",
       "    </tr>\n",
       "  </thead>\n",
       "  <tbody>\n",
       "    <tr>\n",
       "      <th>0</th>\n",
       "      <td>2b59397433c144e3b6c05cf0f1c2fcb8</td>\n",
       "      <td>0.326509</td>\n",
       "    </tr>\n",
       "    <tr>\n",
       "      <th>1</th>\n",
       "      <td>467da31318cd46b78bfc56eab4272b53</td>\n",
       "      <td>0.004081</td>\n",
       "    </tr>\n",
       "    <tr>\n",
       "      <th>2</th>\n",
       "      <td>051b1d2c86c84fbfb676cba15319982e</td>\n",
       "      <td>0.000000</td>\n",
       "    </tr>\n",
       "    <tr>\n",
       "      <th>3</th>\n",
       "      <td>4851cf77aa8d4c57a3708691c6abdb67</td>\n",
       "      <td>0.000000</td>\n",
       "    </tr>\n",
       "    <tr>\n",
       "      <th>4</th>\n",
       "      <td>3eb78bebf69240aabe2707d89c7c31dd</td>\n",
       "      <td>0.006000</td>\n",
       "    </tr>\n",
       "  </tbody>\n",
       "</table>\n",
       "</div>"
      ],
      "text/plain": [
       "                customer_account_id  churn_prediction\n",
       "0  2b59397433c144e3b6c05cf0f1c2fcb8          0.326509\n",
       "1  467da31318cd46b78bfc56eab4272b53          0.004081\n",
       "2  051b1d2c86c84fbfb676cba15319982e          0.000000\n",
       "3  4851cf77aa8d4c57a3708691c6abdb67          0.000000\n",
       "4  3eb78bebf69240aabe2707d89c7c31dd          0.006000"
      ]
     },
     "execution_count": 34,
     "metadata": {},
     "output_type": "execute_result"
    }
   ],
   "source": [
    "results_df.head()"
   ]
  },
  {
   "cell_type": "code",
   "execution_count": 37,
   "metadata": {},
   "outputs": [],
   "source": [
    "results_df['churn_prediction'] = results_df['churn_prediction'].mul(100).round(2)"
   ]
  },
  {
   "cell_type": "code",
   "execution_count": 38,
   "metadata": {},
   "outputs": [
    {
     "data": {
      "text/html": [
       "<div>\n",
       "<style scoped>\n",
       "    .dataframe tbody tr th:only-of-type {\n",
       "        vertical-align: middle;\n",
       "    }\n",
       "\n",
       "    .dataframe tbody tr th {\n",
       "        vertical-align: top;\n",
       "    }\n",
       "\n",
       "    .dataframe thead th {\n",
       "        text-align: right;\n",
       "    }\n",
       "</style>\n",
       "<table border=\"1\" class=\"dataframe\">\n",
       "  <thead>\n",
       "    <tr style=\"text-align: right;\">\n",
       "      <th></th>\n",
       "      <th>customer_account_id</th>\n",
       "      <th>churn_prediction</th>\n",
       "    </tr>\n",
       "  </thead>\n",
       "  <tbody>\n",
       "    <tr>\n",
       "      <th>0</th>\n",
       "      <td>2b59397433c144e3b6c05cf0f1c2fcb8</td>\n",
       "      <td>32.65</td>\n",
       "    </tr>\n",
       "    <tr>\n",
       "      <th>1</th>\n",
       "      <td>467da31318cd46b78bfc56eab4272b53</td>\n",
       "      <td>0.41</td>\n",
       "    </tr>\n",
       "    <tr>\n",
       "      <th>2</th>\n",
       "      <td>051b1d2c86c84fbfb676cba15319982e</td>\n",
       "      <td>0.00</td>\n",
       "    </tr>\n",
       "    <tr>\n",
       "      <th>3</th>\n",
       "      <td>4851cf77aa8d4c57a3708691c6abdb67</td>\n",
       "      <td>0.00</td>\n",
       "    </tr>\n",
       "    <tr>\n",
       "      <th>4</th>\n",
       "      <td>3eb78bebf69240aabe2707d89c7c31dd</td>\n",
       "      <td>0.60</td>\n",
       "    </tr>\n",
       "  </tbody>\n",
       "</table>\n",
       "</div>"
      ],
      "text/plain": [
       "                customer_account_id  churn_prediction\n",
       "0  2b59397433c144e3b6c05cf0f1c2fcb8             32.65\n",
       "1  467da31318cd46b78bfc56eab4272b53              0.41\n",
       "2  051b1d2c86c84fbfb676cba15319982e              0.00\n",
       "3  4851cf77aa8d4c57a3708691c6abdb67              0.00\n",
       "4  3eb78bebf69240aabe2707d89c7c31dd              0.60"
      ]
     },
     "execution_count": 38,
     "metadata": {},
     "output_type": "execute_result"
    }
   ],
   "source": [
    "results_df.head()"
   ]
  },
  {
   "cell_type": "code",
   "execution_count": 39,
   "metadata": {},
   "outputs": [],
   "source": [
    "results_df['tenant_id'] = 'TNB00001'\n",
    "results_df['store_id'] = 'STOM000000001'"
   ]
  },
  {
   "cell_type": "code",
   "execution_count": 40,
   "metadata": {},
   "outputs": [
    {
     "data": {
      "text/html": [
       "<div>\n",
       "<style scoped>\n",
       "    .dataframe tbody tr th:only-of-type {\n",
       "        vertical-align: middle;\n",
       "    }\n",
       "\n",
       "    .dataframe tbody tr th {\n",
       "        vertical-align: top;\n",
       "    }\n",
       "\n",
       "    .dataframe thead th {\n",
       "        text-align: right;\n",
       "    }\n",
       "</style>\n",
       "<table border=\"1\" class=\"dataframe\">\n",
       "  <thead>\n",
       "    <tr style=\"text-align: right;\">\n",
       "      <th></th>\n",
       "      <th>customer_account_id</th>\n",
       "      <th>churn_prediction</th>\n",
       "      <th>tenant_id</th>\n",
       "      <th>store_id</th>\n",
       "    </tr>\n",
       "  </thead>\n",
       "  <tbody>\n",
       "    <tr>\n",
       "      <th>0</th>\n",
       "      <td>2b59397433c144e3b6c05cf0f1c2fcb8</td>\n",
       "      <td>32.65</td>\n",
       "      <td>TNB00001</td>\n",
       "      <td>STOM000000001</td>\n",
       "    </tr>\n",
       "    <tr>\n",
       "      <th>1</th>\n",
       "      <td>467da31318cd46b78bfc56eab4272b53</td>\n",
       "      <td>0.41</td>\n",
       "      <td>TNB00001</td>\n",
       "      <td>STOM000000001</td>\n",
       "    </tr>\n",
       "    <tr>\n",
       "      <th>2</th>\n",
       "      <td>051b1d2c86c84fbfb676cba15319982e</td>\n",
       "      <td>0.00</td>\n",
       "      <td>TNB00001</td>\n",
       "      <td>STOM000000001</td>\n",
       "    </tr>\n",
       "    <tr>\n",
       "      <th>3</th>\n",
       "      <td>4851cf77aa8d4c57a3708691c6abdb67</td>\n",
       "      <td>0.00</td>\n",
       "      <td>TNB00001</td>\n",
       "      <td>STOM000000001</td>\n",
       "    </tr>\n",
       "    <tr>\n",
       "      <th>4</th>\n",
       "      <td>3eb78bebf69240aabe2707d89c7c31dd</td>\n",
       "      <td>0.60</td>\n",
       "      <td>TNB00001</td>\n",
       "      <td>STOM000000001</td>\n",
       "    </tr>\n",
       "  </tbody>\n",
       "</table>\n",
       "</div>"
      ],
      "text/plain": [
       "                customer_account_id  churn_prediction tenant_id       store_id\n",
       "0  2b59397433c144e3b6c05cf0f1c2fcb8             32.65  TNB00001  STOM000000001\n",
       "1  467da31318cd46b78bfc56eab4272b53              0.41  TNB00001  STOM000000001\n",
       "2  051b1d2c86c84fbfb676cba15319982e              0.00  TNB00001  STOM000000001\n",
       "3  4851cf77aa8d4c57a3708691c6abdb67              0.00  TNB00001  STOM000000001\n",
       "4  3eb78bebf69240aabe2707d89c7c31dd              0.60  TNB00001  STOM000000001"
      ]
     },
     "execution_count": 40,
     "metadata": {},
     "output_type": "execute_result"
    }
   ],
   "source": [
    "results_df.head()"
   ]
  },
  {
   "cell_type": "code",
   "execution_count": 51,
   "metadata": {},
   "outputs": [
    {
     "name": "stdout",
     "output_type": "stream",
     "text": [
      "Drop table cdp.churn successfully\n",
      "Successfully created the table cdp.churn\n",
      "0 50 100 150 200 250 300 350 400 450 500 550 600 650 700 750 800 850 900 950 1000 1050 1100 1150 1200 1250 1300 1350 1400 1450 1500 1550 1600 1650 1700 1750 1800 1850 1900 1950 2000 2050 2100 2150 2200 2250 2300 2350 2400 2450 2500 2550 2600 2650 2700 2750 2800 2850 2900 2950 3000 3050 3100 3150 3200 3250 3300 3350 3400 3450 3500 3550 3600 3650 3700 3750 3800 3850 3900 3950 4000 4050 4100 4150 4200 4250 4300 4350 4400 4450 4500 4550 4600 4650 4700 4750 4800 4850 4900 4950 5000 5050 5100 5150 5200 5250 5300 5350 5400 5450 5500 5550 5600 5650 5700 5750 5800 5850 5900 5950 6000 6050 6100 6150 6200 6250 6300 6350 6400 6450 6500 6550 6600 6650 6700 6750 6800 6850 6900 6950 7000 7050 7100 7150 7200 7250 7300 7350 7400 7450 7500 7550 7600 7650 7700 7750 7800 7850 7900 Error: server closed the connection unexpectedly\n",
      "\tThis probably means the server terminated abnormally\n",
      "\tbefore or while processing the request.\n",
      "\n"
     ]
    },
    {
     "ename": "InterfaceError",
     "evalue": "connection already closed",
     "output_type": "error",
     "traceback": [
      "\u001b[1;31m---------------------------------------------------------------------------\u001b[0m",
      "\u001b[1;31mOperationalError\u001b[0m                          Traceback (most recent call last)",
      "\u001b[1;32m<ipython-input-51-b3d18a381970>\u001b[0m in \u001b[0;36msingle_insert\u001b[1;34m(conn, insert_req)\u001b[0m\n\u001b[0;32m     44\u001b[0m             \u001b[0mcursor\u001b[0m\u001b[1;33m.\u001b[0m\u001b[0mexecute\u001b[0m\u001b[1;33m(\u001b[0m\u001b[0minsert_req\u001b[0m\u001b[1;33m)\u001b[0m\u001b[1;33m\u001b[0m\u001b[1;33m\u001b[0m\u001b[0m\n\u001b[1;32m---> 45\u001b[1;33m             \u001b[0mconn\u001b[0m\u001b[1;33m.\u001b[0m\u001b[0mcommit\u001b[0m\u001b[1;33m(\u001b[0m\u001b[1;33m)\u001b[0m\u001b[1;33m\u001b[0m\u001b[1;33m\u001b[0m\u001b[0m\n\u001b[0m\u001b[0;32m     46\u001b[0m         \u001b[1;32mexcept\u001b[0m \u001b[1;33m(\u001b[0m\u001b[0mException\u001b[0m\u001b[1;33m,\u001b[0m \u001b[0mpsycopg2\u001b[0m\u001b[1;33m.\u001b[0m\u001b[0mDatabaseError\u001b[0m\u001b[1;33m)\u001b[0m \u001b[1;32mas\u001b[0m \u001b[0merror\u001b[0m\u001b[1;33m:\u001b[0m\u001b[1;33m\u001b[0m\u001b[1;33m\u001b[0m\u001b[0m\n",
      "\u001b[1;31mOperationalError\u001b[0m: server closed the connection unexpectedly\n\tThis probably means the server terminated abnormally\n\tbefore or while processing the request.\n",
      "\nDuring handling of the above exception, another exception occurred:\n",
      "\u001b[1;31mInterfaceError\u001b[0m                            Traceback (most recent call last)",
      "\u001b[1;32m<ipython-input-51-b3d18a381970>\u001b[0m in \u001b[0;36m<module>\u001b[1;34m\u001b[0m\n\u001b[0;32m     75\u001b[0m \u001b[1;33m\u001b[0m\u001b[0m\n\u001b[0;32m     76\u001b[0m     \u001b[1;31m# load data into database\u001b[0m\u001b[1;33m\u001b[0m\u001b[1;33m\u001b[0m\u001b[1;33m\u001b[0m\u001b[0m\n\u001b[1;32m---> 77\u001b[1;33m     \u001b[0mload_db\u001b[0m\u001b[1;33m(\u001b[0m\u001b[0mresults_df\u001b[0m\u001b[1;33m)\u001b[0m\u001b[1;33m\u001b[0m\u001b[1;33m\u001b[0m\u001b[0m\n\u001b[0m\u001b[0;32m     78\u001b[0m \u001b[1;33m\u001b[0m\u001b[0m\n",
      "\u001b[1;32m<ipython-input-51-b3d18a381970>\u001b[0m in \u001b[0;36mload_db\u001b[1;34m(results_df)\u001b[0m\n\u001b[0;32m     69\u001b[0m     \u001b[0mdrop_table\u001b[0m\u001b[1;33m(\u001b[0m\u001b[0mcon\u001b[0m\u001b[1;33m,\u001b[0m\u001b[0mtable\u001b[0m\u001b[1;33m)\u001b[0m\u001b[1;33m\u001b[0m\u001b[1;33m\u001b[0m\u001b[0m\n\u001b[0;32m     70\u001b[0m     \u001b[0mcreate_table\u001b[0m\u001b[1;33m(\u001b[0m\u001b[0mcon\u001b[0m\u001b[1;33m,\u001b[0m\u001b[0mtable\u001b[0m\u001b[1;33m)\u001b[0m\u001b[1;33m\u001b[0m\u001b[1;33m\u001b[0m\u001b[0m\n\u001b[1;32m---> 71\u001b[1;33m     \u001b[0minsert_dataframe\u001b[0m\u001b[1;33m(\u001b[0m\u001b[0mresults_df\u001b[0m\u001b[1;33m,\u001b[0m\u001b[0mcon\u001b[0m\u001b[1;33m,\u001b[0m\u001b[0mtable\u001b[0m\u001b[1;33m)\u001b[0m\u001b[1;33m\u001b[0m\u001b[1;33m\u001b[0m\u001b[0m\n\u001b[0m\u001b[0;32m     72\u001b[0m \u001b[1;33m\u001b[0m\u001b[0m\n\u001b[0;32m     73\u001b[0m \u001b[1;32mif\u001b[0m \u001b[0m__name__\u001b[0m \u001b[1;33m==\u001b[0m \u001b[1;34m'__main__'\u001b[0m\u001b[1;33m:\u001b[0m\u001b[1;33m\u001b[0m\u001b[1;33m\u001b[0m\u001b[0m\n",
      "\u001b[1;32m<ipython-input-51-b3d18a381970>\u001b[0m in \u001b[0;36minsert_dataframe\u001b[1;34m(results_df, conn, table)\u001b[0m\n\u001b[0;32m     62\u001b[0m             \u001b[1;32mif\u001b[0m \u001b[0mi\u001b[0m\u001b[1;33m%\u001b[0m\u001b[1;36m50\u001b[0m\u001b[1;33m==\u001b[0m\u001b[1;36m0\u001b[0m\u001b[1;33m:\u001b[0m\u001b[1;33m\u001b[0m\u001b[1;33m\u001b[0m\u001b[0m\n\u001b[0;32m     63\u001b[0m                 \u001b[0mprint\u001b[0m\u001b[1;33m(\u001b[0m\u001b[0mi\u001b[0m\u001b[1;33m,\u001b[0m\u001b[0mend\u001b[0m\u001b[1;33m=\u001b[0m\u001b[1;34m' '\u001b[0m\u001b[1;33m)\u001b[0m\u001b[1;33m\u001b[0m\u001b[1;33m\u001b[0m\u001b[0m\n\u001b[1;32m---> 64\u001b[1;33m             \u001b[0msingle_insert\u001b[0m\u001b[1;33m(\u001b[0m\u001b[0mconn\u001b[0m\u001b[1;33m,\u001b[0m \u001b[0mquery\u001b[0m\u001b[1;33m)\u001b[0m\u001b[1;33m\u001b[0m\u001b[1;33m\u001b[0m\u001b[0m\n\u001b[0m\u001b[0;32m     65\u001b[0m         \u001b[0mconn\u001b[0m\u001b[1;33m.\u001b[0m\u001b[0mcommit\u001b[0m\u001b[1;33m(\u001b[0m\u001b[1;33m)\u001b[0m\u001b[1;33m\u001b[0m\u001b[1;33m\u001b[0m\u001b[0m\n\u001b[0;32m     66\u001b[0m         \u001b[0mprint\u001b[0m\u001b[1;33m(\u001b[0m\u001b[1;34m'\\nSuccessfully inserted dataframe into the table'\u001b[0m\u001b[1;33m)\u001b[0m\u001b[1;33m\u001b[0m\u001b[1;33m\u001b[0m\u001b[0m\n",
      "\u001b[1;32m<ipython-input-51-b3d18a381970>\u001b[0m in \u001b[0;36msingle_insert\u001b[1;34m(conn, insert_req)\u001b[0m\n\u001b[0;32m     46\u001b[0m         \u001b[1;32mexcept\u001b[0m \u001b[1;33m(\u001b[0m\u001b[0mException\u001b[0m\u001b[1;33m,\u001b[0m \u001b[0mpsycopg2\u001b[0m\u001b[1;33m.\u001b[0m\u001b[0mDatabaseError\u001b[0m\u001b[1;33m)\u001b[0m \u001b[1;32mas\u001b[0m \u001b[0merror\u001b[0m\u001b[1;33m:\u001b[0m\u001b[1;33m\u001b[0m\u001b[1;33m\u001b[0m\u001b[0m\n\u001b[0;32m     47\u001b[0m             \u001b[0mprint\u001b[0m\u001b[1;33m(\u001b[0m\u001b[1;34m\"Error: %s\"\u001b[0m \u001b[1;33m%\u001b[0m \u001b[0merror\u001b[0m\u001b[1;33m)\u001b[0m\u001b[1;33m\u001b[0m\u001b[1;33m\u001b[0m\u001b[0m\n\u001b[1;32m---> 48\u001b[1;33m             \u001b[0mconn\u001b[0m\u001b[1;33m.\u001b[0m\u001b[0mrollback\u001b[0m\u001b[1;33m(\u001b[0m\u001b[1;33m)\u001b[0m\u001b[1;33m\u001b[0m\u001b[1;33m\u001b[0m\u001b[0m\n\u001b[0m\u001b[0;32m     49\u001b[0m             \u001b[0mcursor\u001b[0m\u001b[1;33m.\u001b[0m\u001b[0mclose\u001b[0m\u001b[1;33m(\u001b[0m\u001b[1;33m)\u001b[0m\u001b[1;33m\u001b[0m\u001b[1;33m\u001b[0m\u001b[0m\n\u001b[0;32m     50\u001b[0m             \u001b[1;32mreturn\u001b[0m \u001b[1;36m1\u001b[0m\u001b[1;33m\u001b[0m\u001b[1;33m\u001b[0m\u001b[0m\n",
      "\u001b[1;31mInterfaceError\u001b[0m: connection already closed"
     ]
    }
   ],
   "source": [
    "def load_db(results_df):\n",
    "    con=psycopg2.connect(dbname= 'dev', host='mantix-cluster.cgzkthavydhk.us-east-2.redshift.amazonaws.com', \n",
    "    port= '5439', user= 'mantix', password= 'Mantix123!')\n",
    "    cur = con.cursor()\n",
    "\n",
    "    def drop_table(conn,table):\n",
    "        try:\n",
    "            query = f\"\"\"DROP TABLE IF EXISTS {table}\"\"\"\n",
    "            cur = conn.cursor()\n",
    "            cur.execute(query)\n",
    "            conn.commit()\n",
    "            print(f'Drop table {table} successfully')\n",
    "            cur.close()\n",
    "        except (Exception, psycopg2.DatabaseError) as error:\n",
    "            print(\"Error: %s\" % error)\n",
    "            conn.rollback()\n",
    "            cur.close()\n",
    "            #return 1\n",
    "\n",
    "    def create_table(conn,table):\n",
    "        try:\n",
    "            query_col = \"\"\"(customer_account_id VARCHAR(1000),\n",
    "                churn_prediction FLOAT,tenant_id VARCHAR(1000),store_id VARCHAR(1000))\"\"\"\n",
    "            query = f\"\"\"\n",
    "                    CREATE TABLE {table} \n",
    "                    \"\"\"+query_col\n",
    "            cur = conn.cursor()\n",
    "            cur.execute(\"ROLLBACK\")\n",
    "            conn.commit()\n",
    "            cur.execute(query)\n",
    "            conn.commit()\n",
    "            print(f'Successfully created the table {table}')\n",
    "            cur.close()\n",
    "        except (Exception, psycopg2.DatabaseError) as error:\n",
    "            print(\"Error: %s\" % error)\n",
    "            conn.rollback()\n",
    "            cur.close()\n",
    "            return 1\n",
    "            \n",
    "    def single_insert(conn, insert_req):\n",
    "        \"\"\" Execute a single INSERT request \"\"\"\n",
    "        cursor = conn.cursor()\n",
    "        try:\n",
    "            cursor.execute(insert_req)\n",
    "            conn.commit()\n",
    "        except (Exception, psycopg2.DatabaseError) as error:\n",
    "            print(\"Error: %s\" % error)\n",
    "            conn.rollback()\n",
    "            cursor.close()\n",
    "            return 1\n",
    "        cursor.close()\n",
    "        \n",
    "    def insert_dataframe(results_df,conn,table):\n",
    "        for i in results_df.index:\n",
    "            query = f\"\"\"\n",
    "                    INSERT into {table}(customer_account_id,churn_prediction,tenant_id,store_id) \n",
    "                        values('%s',%s,%s,%s);\n",
    "                    \"\"\" % (results_df.loc[i]['customer_account_id'], \n",
    "                        results_df.loc[i]['churn_prediction'],\n",
    "                         \"'\"+str(results_df.loc[i]['tenant_id'])+\"'\",\n",
    "                        \"'\"+str(results_df.loc[i]['store_id'])+\"'\")\n",
    "            if i%50==0:\n",
    "                print(i,end=' ')\n",
    "            single_insert(conn, query)\n",
    "        conn.commit()\n",
    "        print('\\nSuccessfully inserted dataframe into the table')\n",
    "        \n",
    "    table = 'cdp.churn'\n",
    "    drop_table(con,table)\n",
    "    create_table(con,table)\n",
    "    insert_dataframe(results_df,con,table)\n",
    "\n",
    "if __name__ == '__main__':\n",
    "\n",
    "\n",
    "    # load data into database\n",
    "    load_db(results_df)\n",
    "\n"
   ]
  },
  {
   "cell_type": "code",
   "execution_count": 47,
   "metadata": {},
   "outputs": [],
   "source": []
  },
  {
   "cell_type": "code",
   "execution_count": 44,
   "metadata": {},
   "outputs": [
    {
     "ename": "NameError",
     "evalue": "name 'drop_table' is not defined",
     "output_type": "error",
     "traceback": [
      "\u001b[1;31m---------------------------------------------------------------------------\u001b[0m",
      "\u001b[1;31mNameError\u001b[0m                                 Traceback (most recent call last)",
      "\u001b[1;32m<ipython-input-44-803067d5ccce>\u001b[0m in \u001b[0;36m<module>\u001b[1;34m\u001b[0m\n\u001b[1;32m----> 1\u001b[1;33m \u001b[0mdrop_table\u001b[0m\u001b[1;33m(\u001b[0m\u001b[0mcon\u001b[0m\u001b[1;33m,\u001b[0m\u001b[0mtable\u001b[0m\u001b[1;33m)\u001b[0m\u001b[1;33m\u001b[0m\u001b[1;33m\u001b[0m\u001b[0m\n\u001b[0m\u001b[0;32m      2\u001b[0m \u001b[0mcreate_table\u001b[0m\u001b[1;33m(\u001b[0m\u001b[0mcon\u001b[0m\u001b[1;33m,\u001b[0m\u001b[0mtable\u001b[0m\u001b[1;33m)\u001b[0m\u001b[1;33m\u001b[0m\u001b[1;33m\u001b[0m\u001b[0m\n\u001b[0;32m      3\u001b[0m \u001b[0minsert_dataframe\u001b[0m\u001b[1;33m(\u001b[0m\u001b[0mcltv_final\u001b[0m\u001b[1;33m,\u001b[0m\u001b[0mcon\u001b[0m\u001b[1;33m,\u001b[0m\u001b[0mtable\u001b[0m\u001b[1;33m)\u001b[0m\u001b[1;33m\u001b[0m\u001b[1;33m\u001b[0m\u001b[0m\n",
      "\u001b[1;31mNameError\u001b[0m: name 'drop_table' is not defined"
     ]
    }
   ],
   "source": [
    "drop_table(con,table)\n",
    "create_table(con,table)\n",
    "insert_dataframe(cltv_final,con,table)"
   ]
  },
  {
   "cell_type": "code",
   "execution_count": null,
   "metadata": {},
   "outputs": [],
   "source": [
    "def load_db(cltv_final):\n",
    "    con=psycopg2.connect(dbname= 'dev', host='mantix-cluster.cgzkthavydhk.us-east-2.redshift.amazonaws.com', \n",
    "    port= '5439', user= 'mantix', password= 'Mantix123!')\n",
    "    cur = con.cursor()\n",
    "\n",
    "    def drop_table(conn,table):\n",
    "        try:\n",
    "            query = f\"\"\"DROP TABLE IF EXISTS {table}\"\"\"\n",
    "            cur = conn.cursor()\n",
    "            cur.execute(query)\n",
    "            conn.commit()\n",
    "            print(f'Drop table {table} successfully')\n",
    "            cur.close()\n",
    "        except (Exception, psycopg2.DatabaseError) as error:\n",
    "            print(\"Error: %s\" % error)\n",
    "            conn.rollback()\n",
    "            cur.close()\n",
    "            #return 1\n",
    "\n",
    "    def create_table(conn,table):\n",
    "        try:\n",
    "            query_col = \"\"\"(customer_account_id VARCHAR(1000),\n",
    "                cltv_6M FLOAT,cltv_12M FLOAT,\n",
    "                cltv_24M FLOAT,tenant_id VARCHAR(1000),store_id VARCHAR(1000),create_dms VARCHAR(1000))\"\"\"\n",
    "            query = f\"\"\"\n",
    "                    CREATE TABLE {table} \n",
    "                    \"\"\"+query_col\n",
    "            cur = conn.cursor()\n",
    "            cur.execute(\"ROLLBACK\")\n",
    "            conn.commit()\n",
    "            cur.execute(query)\n",
    "            conn.commit()\n",
    "            print(f'Successfully created the table {table}')\n",
    "            cur.close()\n",
    "        except (Exception, psycopg2.DatabaseError) as error:\n",
    "            print(\"Error: %s\" % error)\n",
    "            conn.rollback()\n",
    "            cur.close()\n",
    "            return 1\n",
    "            \n",
    "    def single_insert(conn, insert_req):\n",
    "        \"\"\" Execute a single INSERT request \"\"\"\n",
    "        cursor = conn.cursor()\n",
    "        try:\n",
    "            cursor.execute(insert_req)\n",
    "            conn.commit()\n",
    "        except (Exception, psycopg2.DatabaseError) as error:\n",
    "            print(\"Error: %s\" % error)\n",
    "            conn.rollback()\n",
    "            cursor.close()\n",
    "            return 1\n",
    "        cursor.close()\n",
    "        \n",
    "    def insert_dataframe(cltv_final,conn,table):\n",
    "        for i in cltv_final.index:\n",
    "            query = f\"\"\"\n",
    "                    INSERT into {table}(customer_account_id,cltv_6M,cltv_12M,cltv_24M,tenant_id,store_id,create_dms) \n",
    "                        values('%s',%s,%s,%s,%s,%s,%s);\n",
    "                    \"\"\" % (cltv_final.loc[i]['CustomerId'], \n",
    "                        cltv_final.loc[i]['cltv_6M'],\n",
    "                        \n",
    "                        cltv_final.loc[i]['cltv_12M'],\n",
    "                        \n",
    "                        cltv_final.loc[i]['cltv_24M'],\n",
    "                        \n",
    "                        \"'\"+str(cltv_final.loc[i]['tenant_id'])+\"'\",\n",
    "                        \"'\"+str(cltv_final.loc[i]['store_id'])+\"'\",\n",
    "                         \"'\"+str(cltv_final.loc[i]['create_dms'])+\"'\")\n",
    "            if i%50==0:\n",
    "                print(i,end=' ')\n",
    "            single_insert(conn, query)\n",
    "        conn.commit()\n",
    "        print('\\nSuccessfully inserted dataframe into the table')\n",
    "        \n",
    "    table = 'cdp.cltv'\n",
    "    drop_table(con,table)\n",
    "    create_table(con,table)\n",
    "    insert_dataframe(cltv_final,con,table)\n",
    "\n",
    "if __name__ == '__main__':\n",
    "\n",
    "    # start cltv\n",
    "    cltv_final = start_cltv()\n",
    "\n",
    "    # load data into database\n",
    "    load_db(cltv_final)\n"
   ]
  }
 ],
 "metadata": {
  "kernelspec": {
   "display_name": "Python 3",
   "language": "python",
   "name": "python3"
  },
  "language_info": {
   "codemirror_mode": {
    "name": "ipython",
    "version": 3
   },
   "file_extension": ".py",
   "mimetype": "text/x-python",
   "name": "python",
   "nbconvert_exporter": "python",
   "pygments_lexer": "ipython3",
   "version": "3.8.3"
  }
 },
 "nbformat": 4,
 "nbformat_minor": 4
}
