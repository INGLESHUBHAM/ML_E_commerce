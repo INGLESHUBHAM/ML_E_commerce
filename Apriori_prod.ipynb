{
 "cells": [
  {
   "cell_type": "code",
   "execution_count": null,
   "id": "83788d3f",
   "metadata": {},
   "outputs": [],
   "source": [
    "!pip install mlxtend\n",
    "import warnings\n",
    "warnings.filterwarnings('ignore')\n",
    "import pandas as pd\n",
    "import numpy as np\n",
    "from sklearn.preprocessing import MinMaxScaler\n",
    "from sklearn.cluster import KMeans\n",
    "import matplotlib.pyplot as plt\n",
    "import seaborn as sns\n",
    "from mlxtend.frequent_patterns import apriori\n",
    "from mlxtend.frequent_patterns import association_rules"
   ]
  },
  {
   "cell_type": "code",
   "execution_count": null,
   "id": "3f1b5961",
   "metadata": {},
   "outputs": [],
   "source": [
    "import psycopg2\n",
    "con=psycopg2.connect(dbname= 'dev', host='mantix-cluster.cgzkthavydhk.us-east-2.redshift.amazonaws.com', \n",
    "port= '5439', user= 'mantix', password= 'Mantix123!')\n",
    "cur = con.cursor()"
   ]
  },
  {
   "cell_type": "code",
   "execution_count": null,
   "id": "0f79f90e",
   "metadata": {},
   "outputs": [],
   "source": [
    "# cur.execute(\"select * from cdp.orders_data;\")\n",
    "# orders_data = pd.read_sql(\"select * from cdp.orders_data;\",con)"
   ]
  },
  {
   "cell_type": "code",
   "execution_count": null,
   "id": "e6063fda",
   "metadata": {},
   "outputs": [],
   "source": [
    "# orders_data['order_number']=orders_data['order_number'].astype(int).astype(str)"
   ]
  },
  {
   "cell_type": "code",
   "execution_count": null,
   "id": "c586ae83",
   "metadata": {},
   "outputs": [],
   "source": [
    "cur.execute(\"select * from cdp.products_data;\")\n",
    "products_data = pd.read_sql(\"select * from cdp.products_data;\",con)"
   ]
  },
  {
   "cell_type": "code",
   "execution_count": null,
   "id": "38843d44",
   "metadata": {},
   "outputs": [],
   "source": [
    "products_data.columns"
   ]
  },
  {
   "cell_type": "code",
   "execution_count": null,
   "id": "0b644eb1",
   "metadata": {},
   "outputs": [],
   "source": [
    "products_data.shape"
   ]
  },
  {
   "cell_type": "code",
   "execution_count": null,
   "id": "326b473b",
   "metadata": {},
   "outputs": [],
   "source": [
    "prod_url = products_data[['product_name','image_url','product_code','product_description']].drop_duplicates()\n",
    "print(prod_url.shape)\n",
    "print(prod_url.isna().sum())\n",
    "# prod_url=dict(zip(prod_url.product_name,prod_url.image_url))"
   ]
  },
  {
   "cell_type": "code",
   "execution_count": null,
   "id": "6a0a97b0",
   "metadata": {},
   "outputs": [],
   "source": [
    "prod_url.head(2)"
   ]
  },
  {
   "cell_type": "code",
   "execution_count": null,
   "id": "f5e96bea",
   "metadata": {},
   "outputs": [],
   "source": [
    "import re\n",
    "prod_url['product_description']=prod_url['product_description'].apply(lambda x:re.sub('[^A-Za-z]+', ' ', x))"
   ]
  },
  {
   "cell_type": "code",
   "execution_count": null,
   "id": "67b9fa8c",
   "metadata": {},
   "outputs": [],
   "source": [
    "prod_url = prod_url[prod_url['product_description'].notnull() & (prod_url['product_description'].astype(str).str.strip() != \"\")]"
   ]
  },
  {
   "cell_type": "code",
   "execution_count": null,
   "id": "dc75c08f",
   "metadata": {},
   "outputs": [],
   "source": [
    "prod_url.shape"
   ]
  },
  {
   "cell_type": "code",
   "execution_count": null,
   "id": "b627c72f",
   "metadata": {},
   "outputs": [],
   "source": [
    "# prod_url.dropna(subset=['product_description'], inplace=True)"
   ]
  },
  {
   "cell_type": "code",
   "execution_count": null,
   "id": "a06ce9fb",
   "metadata": {},
   "outputs": [],
   "source": [
    "# prod_url = prod_url[prod_url['product_description'] != \" \"]"
   ]
  },
  {
   "cell_type": "code",
   "execution_count": null,
   "id": "949fd3ea",
   "metadata": {},
   "outputs": [],
   "source": [
    "# is_null_or_empty = prod_url['product_description'].isnull().values.any() or prod_url['product_description'].astype(str).str.strip().empty"
   ]
  },
  {
   "cell_type": "code",
   "execution_count": null,
   "id": "8840e5dc",
   "metadata": {},
   "outputs": [],
   "source": [
    "# selected_records = prod_url['product_description'].loc[prod_url['product_description'].str.contains('\"')]"
   ]
  },
  {
   "cell_type": "code",
   "execution_count": null,
   "id": "842ec268",
   "metadata": {},
   "outputs": [],
   "source": [
    "prod_url.dtypes"
   ]
  },
  {
   "cell_type": "code",
   "execution_count": null,
   "id": "01dea87b",
   "metadata": {},
   "outputs": [],
   "source": [
    "# Prod_url_copy=prod_url.copy()"
   ]
  },
  {
   "cell_type": "code",
   "execution_count": null,
   "id": "f06bc36c",
   "metadata": {},
   "outputs": [],
   "source": [
    "# Prod_url_copy.shape"
   ]
  },
  {
   "cell_type": "code",
   "execution_count": null,
   "id": "e67e9009",
   "metadata": {},
   "outputs": [],
   "source": [
    "import re\n",
    "prod_url['product_name']=prod_url['product_name'].apply(lambda x:re.sub('[^A-Za-z]+', ' ', x))"
   ]
  },
  {
   "cell_type": "code",
   "execution_count": null,
   "id": "fbab117f",
   "metadata": {},
   "outputs": [],
   "source": [
    "prod_url.drop_duplicates(subset='product_code',keep='first',inplace=True)"
   ]
  },
  {
   "cell_type": "code",
   "execution_count": null,
   "id": "13a587fc",
   "metadata": {},
   "outputs": [],
   "source": [
    "prod_url.shape"
   ]
  },
  {
   "cell_type": "code",
   "execution_count": null,
   "id": "b38e5aaf",
   "metadata": {},
   "outputs": [],
   "source": [
    "prod_list=prod_url['product_name'].tolist()"
   ]
  },
  {
   "cell_type": "code",
   "execution_count": null,
   "id": "43c1945d",
   "metadata": {},
   "outputs": [],
   "source": [
    "!pip install sentence-transformers"
   ]
  },
  {
   "cell_type": "code",
   "execution_count": null,
   "id": "785fd76a",
   "metadata": {},
   "outputs": [],
   "source": [
    "from sentence_transformers import SentenceTransformer\n",
    "model = SentenceTransformer('bert-base-nli-mean-tokens')\n",
    "#Encoding:\n",
    "sen_embeddings = model.encode(prod_list)"
   ]
  },
  {
   "cell_type": "code",
   "execution_count": null,
   "id": "3390729e",
   "metadata": {},
   "outputs": [],
   "source": [
    "sen_embeddings.shape"
   ]
  },
  {
   "cell_type": "code",
   "execution_count": null,
   "id": "7f7432db",
   "metadata": {},
   "outputs": [],
   "source": [
    "from sklearn.metrics.pairwise import cosine_similarity\n",
    "#let's calculate cosine similarity for sentence 0:\n",
    "cos_0=cosine_similarity(\n",
    "    sen_embeddings,sen_embeddings\n",
    ")"
   ]
  },
  {
   "cell_type": "code",
   "execution_count": null,
   "id": "612f70e7",
   "metadata": {},
   "outputs": [],
   "source": [
    "cos_0"
   ]
  },
  {
   "cell_type": "code",
   "execution_count": null,
   "id": "aa1aae41",
   "metadata": {},
   "outputs": [],
   "source": [
    "cos_0=pd.DataFrame(cos_0)"
   ]
  },
  {
   "cell_type": "code",
   "execution_count": null,
   "id": "489a1914",
   "metadata": {},
   "outputs": [],
   "source": [
    "# cos_0.columns=prod_list"
   ]
  },
  {
   "cell_type": "code",
   "execution_count": null,
   "id": "3583d6f3",
   "metadata": {},
   "outputs": [],
   "source": [
    "prod_list_code=prod_url['product_code'].tolist()"
   ]
  },
  {
   "cell_type": "code",
   "execution_count": null,
   "id": "4ef3aa1a",
   "metadata": {},
   "outputs": [],
   "source": [
    "cos_0.columns=prod_list_code"
   ]
  },
  {
   "cell_type": "code",
   "execution_count": null,
   "id": "2d40c270",
   "metadata": {},
   "outputs": [],
   "source": [
    "cos_0.index=prod_url['product_name']"
   ]
  },
  {
   "cell_type": "code",
   "execution_count": null,
   "id": "73a316e8",
   "metadata": {},
   "outputs": [],
   "source": [
    "# cos=cos_0.round(2)"
   ]
  },
  {
   "cell_type": "code",
   "execution_count": null,
   "id": "d6c69776",
   "metadata": {},
   "outputs": [],
   "source": [
    "cos_0.head(2)"
   ]
  },
  {
   "cell_type": "code",
   "execution_count": null,
   "id": "60d3264a",
   "metadata": {},
   "outputs": [],
   "source": [
    "cos_0.iloc[1].sort_values(ascending=False)[1:4].astype(float)"
   ]
  },
  {
   "cell_type": "code",
   "execution_count": null,
   "id": "eaabb292",
   "metadata": {},
   "outputs": [],
   "source": [
    "similarity_score={}\n",
    "for i in range(len(cos_0)):\n",
    "    # print(\":::::::::::\",i)\n",
    "    similarity_score[cos_0.index.tolist()[i]]=cos_0.iloc[i].sort_values(ascending=False).astype(float).round(2)[1:4].to_dict()"
   ]
  },
  {
   "cell_type": "code",
   "execution_count": null,
   "id": "5eebfc6d",
   "metadata": {},
   "outputs": [],
   "source": [
    "# similarity_score"
   ]
  },
  {
   "cell_type": "code",
   "execution_count": null,
   "id": "d39dadbf",
   "metadata": {},
   "outputs": [],
   "source": [
    "sim_score=pd.DataFrame.from_dict([similarity_score]).T"
   ]
  },
  {
   "cell_type": "code",
   "execution_count": null,
   "id": "898352bb",
   "metadata": {},
   "outputs": [],
   "source": [
    "sim_score.head(2)"
   ]
  },
  {
   "cell_type": "code",
   "execution_count": null,
   "id": "b2507a08",
   "metadata": {},
   "outputs": [],
   "source": [
    "sim_score.reset_index(inplace=True)"
   ]
  },
  {
   "cell_type": "code",
   "execution_count": null,
   "id": "6ad6a26c",
   "metadata": {},
   "outputs": [],
   "source": [
    "sim_score.head(2)"
   ]
  },
  {
   "cell_type": "code",
   "execution_count": null,
   "id": "770f2d55",
   "metadata": {},
   "outputs": [],
   "source": [
    "sim_score.columns=['product_name','often_bundled_products']"
   ]
  },
  {
   "cell_type": "code",
   "execution_count": null,
   "id": "ded596af",
   "metadata": {},
   "outputs": [],
   "source": [
    "sim_score.head(2)"
   ]
  },
  {
   "cell_type": "code",
   "execution_count": null,
   "id": "bd934758",
   "metadata": {},
   "outputs": [],
   "source": [
    "final_df=pd.merge(prod_url,sim_score,how='left',on='product_name')"
   ]
  },
  {
   "cell_type": "code",
   "execution_count": null,
   "id": "57080b74",
   "metadata": {},
   "outputs": [],
   "source": [
    "final_df.head(2)"
   ]
  },
  {
   "cell_type": "code",
   "execution_count": null,
   "id": "4bd486a8",
   "metadata": {},
   "outputs": [],
   "source": [
    "final_df['tenant_id']='TNB00001'\n",
    "final_df['store_id']='STOM000000001'"
   ]
  },
  {
   "cell_type": "code",
   "execution_count": null,
   "id": "c2d880c8",
   "metadata": {},
   "outputs": [],
   "source": [
    "from datetime import date\n",
    "today_date = date.today()\n",
    "final_df['create_dms'] = str(today_date)"
   ]
  },
  {
   "cell_type": "code",
   "execution_count": null,
   "id": "4534b821",
   "metadata": {},
   "outputs": [],
   "source": [
    "str(today_date)"
   ]
  },
  {
   "cell_type": "code",
   "execution_count": null,
   "id": "a8bea174",
   "metadata": {},
   "outputs": [],
   "source": [
    " str(final_df.loc[0]['often_bundled_products'])"
   ]
  },
  {
   "cell_type": "code",
   "execution_count": null,
   "id": "4d434fee",
   "metadata": {},
   "outputs": [],
   "source": [
    "# final_df=final_df[:50]"
   ]
  },
  {
   "cell_type": "code",
   "execution_count": null,
   "id": "d7ddcce5",
   "metadata": {},
   "outputs": [],
   "source": [
    "final_df.head(2)"
   ]
  },
  {
   "cell_type": "code",
   "execution_count": null,
   "id": "53f9fdd8",
   "metadata": {},
   "outputs": [],
   "source": [
    "# final_df['often_bundled_products'].tolist()"
   ]
  },
  {
   "cell_type": "code",
   "execution_count": null,
   "id": "2417e242",
   "metadata": {},
   "outputs": [],
   "source": [
    "from itertools import islice\n",
    "\n",
    "def dict_to_object(t):\n",
    "    t1={}\n",
    "    t2={}\n",
    "    t3={}\n",
    "    final_dict={}\n",
    "    inc = iter(t.items())\n",
    "    res1 = dict(islice(inc, len(t) // 3))\n",
    "    res2 = dict(islice(inc, len(t) // 2))\n",
    "    res3 = dict(inc)\n",
    "    for i,j in res1.items():\n",
    "        t1['productCode']=i\n",
    "        t1['conf_score']=j\n",
    "    for d,k in res2.items():\n",
    "        t2['productCode']=d\n",
    "        t2['conf_score']=k\n",
    "    for x,y in res3.items():\n",
    "        t3['productCode']=x\n",
    "        t3['conf_score']=y\n",
    "    final_dict['oftenBundled']=[t1,t2,t3]\n",
    "    \n",
    "    return final_dict"
   ]
  },
  {
   "cell_type": "code",
   "execution_count": null,
   "id": "10f18a7b",
   "metadata": {},
   "outputs": [],
   "source": [
    "final_df['often_bundled_products']=final_df['often_bundled_products'].apply(lambda x:dict_to_object(x))"
   ]
  },
  {
   "cell_type": "code",
   "execution_count": null,
   "id": "8a6a6b42",
   "metadata": {},
   "outputs": [],
   "source": [
    "final_df['often_bundled_products'].tolist()"
   ]
  },
  {
   "cell_type": "code",
   "execution_count": null,
   "id": "6a2f078a",
   "metadata": {},
   "outputs": [],
   "source": [
    "final_df.head(2)"
   ]
  },
  {
   "cell_type": "code",
   "execution_count": null,
   "id": "c57ae16e",
   "metadata": {},
   "outputs": [],
   "source": [
    "final_df.loc[0]['product_code']"
   ]
  },
  {
   "cell_type": "code",
   "execution_count": null,
   "id": "b70d6fe8",
   "metadata": {},
   "outputs": [],
   "source": [
    "# import json\n",
    "# strjson.dumps(final_df.loc[0]['often_bundled_products'])"
   ]
  },
  {
   "cell_type": "code",
   "execution_count": null,
   "id": "386daef6",
   "metadata": {},
   "outputs": [],
   "source": []
  },
  {
   "cell_type": "code",
   "execution_count": null,
   "id": "5729f791",
   "metadata": {},
   "outputs": [],
   "source": [
    "from psycopg2.extras import execute_values\n",
    "import json\n",
    "import datetime\n",
    "con=psycopg2.connect(dbname= 'dev', host='mantix-cluster.cgzkthavydhk.us-east-2.redshift.amazonaws.com', \n",
    "port= '5439', user= 'mantix', password= 'Mantix123!')\n",
    "cur = con.cursor()\n",
    "\n",
    "def drop_table(conn,table):\n",
    "    try:\n",
    "        query = f\"\"\"DROP TABLE IF EXISTS {table}\"\"\"\n",
    "        cur = conn.cursor()\n",
    "        cur.execute(query)\n",
    "        conn.commit()\n",
    "        print(f'Drop table {table} successfully')\n",
    "        cur.close()\n",
    "    except (Exception, psycopg2.DatabaseError) as error:\n",
    "        print(\"Error: %s\" % error)\n",
    "        conn.rollback()\n",
    "        cur.close()\n",
    "        #return 1\n",
    "#drop_table\n",
    "\n",
    "def create_table(conn,table):\n",
    "    try:\n",
    "        query_col = \"\"\"(\n",
    "            product_url VARCHAR(1000),product_code VARCHAR(1000), often_bundled_products VARCHAR(1000),tenant_id VARCHAR(1000),store_id VARCHAR(1000),create_dms VARCHAR(1000))\"\"\"\n",
    "        query = f\"\"\"\n",
    "                CREATE TABLE {table} \n",
    "                \"\"\"+query_col\n",
    "        cur = conn.cursor()\n",
    "        cur.execute(\"ROLLBACK\")\n",
    "        conn.commit()\n",
    "        cur.execute(query)\n",
    "        conn.commit()\n",
    "        print(f'Successfully created the table {table}')\n",
    "        cur.close()\n",
    "    except (Exception, psycopg2.DatabaseError) as error:\n",
    "        print(\"Error: %s\" % error)\n",
    "        conn.rollback()\n",
    "        cur.close()\n",
    "        return 1\n",
    "#create_table\n",
    "\n",
    "def single_insert(conn, insert_req):\n",
    "    \"\"\" Execute a single INSERT request \"\"\"\n",
    "    cursor = conn.cursor()\n",
    "    try:\n",
    "        cursor.execute(insert_req)\n",
    "        conn.commit()\n",
    "    except (Exception, psycopg2.DatabaseError) as error:\n",
    "        print(\"Error: %s\" % error)\n",
    "        conn.rollback()\n",
    "        cursor.close()\n",
    "        return 1\n",
    "    cursor.close()\n",
    "#single_insert\n",
    "\n",
    "def batch_insert(conn, batch_df):\n",
    "    # Create a cursor object from the connection\n",
    "    cursor = conn.cursor()\n",
    "    statment=f\"INSERT into {table} (product_url, product_code, often_bundled_products, tenant_id, store_id, create_dms) values (%s, %s, %s, %s, %s, %s)\"\n",
    "    try:\n",
    "        # Execute the batch INSERT request\n",
    "        cursor.executemany(statment, batch_df)\n",
    "        # Commit the changes to the database\n",
    "        conn.commit()\n",
    "        print(\"Batch INSERT successful.\")\n",
    "    except (Exception, psycopg2.DatabaseError) as error:\n",
    "        # Rollback the transaction in case of an error\n",
    "        conn.rollback()\n",
    "        print(\"Batch INSERT failed, Error:\", error)\n",
    "    finally:\n",
    "        # Close the cursor\n",
    "        cursor.close()\n",
    "#batch_insert\n",
    "\n",
    "def insert_dataframe(final_df,conn,table):\n",
    "    batch_df=[]\n",
    "    for i in final_df.index:\n",
    "        current_tuple=(\n",
    "            str(final_df.loc[i]['image_url']), \n",
    "            str(final_df.loc[i]['product_code']), \n",
    "            str(json.dumps(final_df.loc[i]['often_bundled_products'])),\n",
    "            str(final_df.loc[i]['tenant_id']),\n",
    "            str(final_df.loc[i]['store_id']),\n",
    "            str(final_df.loc[i]['create_dms']),\n",
    "        )\n",
    "        batch_df.append(current_tuple)\n",
    "        if (len(batch_df) == 500): \n",
    "            batch_insert(conn, batch_df)\n",
    "            batch_df=[]\n",
    "            print(\"Current index: {}, time: {}\".format(i, datetime.datetime.now()))\n",
    "        #endif\n",
    "    # Insert any remaining rows\n",
    "    if (len(batch_df) > 0):\n",
    "        batch_insert(conn,batch_df)\n",
    "    print('Successfully inserted dataframe into the table')\n",
    "#insert_dataframe\n",
    "\n",
    "table = 'cdp.often_bundled_rules'\n",
    "print(\"before drop\")\n",
    "drop_table(con,table)\n",
    "print(\"before create\")\n",
    "create_table(con,table)\n",
    "print(\"before insert\")\n",
    "startTime = datetime.datetime.now()\n",
    "insert_dataframe(final_df,con,table)\n",
    "print(\"Start: {}, Finish: {}\".format(startTime, datetime.datetime.now()))"
   ]
  },
  {
   "cell_type": "code",
   "execution_count": null,
   "id": "805c0437",
   "metadata": {},
   "outputs": [],
   "source": [
    "# from psycopg2.extras import execute_values\n",
    "# import json\n",
    "# import datetime\n",
    "# con=psycopg2.connect(dbname= 'dev', host='mantix-cluster.cgzkthavydhk.us-east-2.redshift.amazonaws.com', \n",
    "# port= '5439', user= 'mantix', password= 'Mantix123!')\n",
    "# cur = con.cursor()\n",
    "\n",
    "# def drop_table(conn,table):\n",
    "#     try:\n",
    "#         query = f\"\"\"DROP TABLE IF EXISTS {table}\"\"\"\n",
    "#         cur = conn.cursor()\n",
    "#         cur.execute(query)\n",
    "#         conn.commit()\n",
    "#         print(f'Drop table {table} successfully')\n",
    "#         cur.close()\n",
    "#     except (Exception, psycopg2.DatabaseError) as error:\n",
    "#         print(\"Error: %s\" % error)\n",
    "#         conn.rollback()\n",
    "#         cur.close()\n",
    "#         #return 1\n",
    "# #drop_table\n",
    "\n",
    "# def create_table(conn,table):\n",
    "#     try:\n",
    "#         query_col = \"\"\"(\n",
    "#             product_url VARCHAR(1000),product_code VARCHAR(1000), often_bundled_products VARCHAR(1000),tenant_id VARCHAR(1000),store_id VARCHAR(1000),create_dms VARCHAR(1000))\"\"\"\n",
    "#         query = f\"\"\"\n",
    "#                 CREATE TABLE {table} \n",
    "#                 \"\"\"+query_col\n",
    "#         cur = conn.cursor()\n",
    "#         cur.execute(\"ROLLBACK\")\n",
    "# #         conn.commit()\n",
    "#         cur.execute(query)\n",
    "#         conn.commit()\n",
    "#         print(f'Successfully created the table {table}')\n",
    "#         cur.close()\n",
    "#     except (Exception, psycopg2.DatabaseError) as error:\n",
    "#         print(\"Error: %s\" % error)\n",
    "#         conn.rollback()\n",
    "#         cur.close()\n",
    "#         return 1\n",
    "# #create_table\n",
    "\n",
    "# def single_insert(conn, insert_req):\n",
    "#     \"\"\" Execute a single INSERT request \"\"\"\n",
    "#     cursor = conn.cursor()\n",
    "#     try:\n",
    "#         cursor.execute(insert_req)\n",
    "#         conn.commit()\n",
    "#     except (Exception, psycopg2.DatabaseError) as error:\n",
    "#         print(\"Error: %s\" % error)\n",
    "#         conn.rollback()\n",
    "#         cursor.close()\n",
    "#         return 1\n",
    "#     cursor.close()\n",
    "# #single_insert\n",
    "\n",
    "# def batch_insert(conn, batch_df):\n",
    "#     # Create a cursor object from the connection\n",
    "#     cursor = conn.cursor()\n",
    "#     statment=f\"INSERT into {table} (product_url, product_code, often_bundled_products, tenant_id, store_id, create_dms) values (%s, %s, %s, %s, %s, %s)\"\n",
    "#     try:\n",
    "#         # Execute the batch INSERT request\n",
    "#         cursor.executemany(statment, batch_df)\n",
    "#         # Commit the changes to the database\n",
    "#         conn.commit()\n",
    "#         print(\"Batch INSERT successful.\")\n",
    "#     except (Exception, psycopg2.DatabaseError) as error:\n",
    "#         # Rollback the transaction in case of an error\n",
    "#         conn.rollback()\n",
    "#         print(\"Batch INSERT failed, Error:\", error)\n",
    "#     finally:\n",
    "#         # Close the cursor\n",
    "#         cursor.close()\n",
    "# #batch_insert\n",
    "\n",
    "# def insert_dataframe(final_df,conn,table):\n",
    "#     batch_df=[]\n",
    "#     for i in final_df.index:\n",
    "#         current_tuple=(\n",
    "#             \"'\"+str(final_df.loc[i]['image_url'])+\"'\", \n",
    "#             \"'\"+int(final_df.loc[i]['product_code'])+\"'\", \n",
    "#             \"'\"+json.dumps(final_df.loc[i]['often_bundled_products'])+\"'\",\n",
    "#             \"'\"+int(final_df.loc[i]['tenant_id'])+\"'\",\n",
    "#             \"'\"+int(final_df.loc[i]['store_id'])+\"'\",\n",
    "#             \"'\"+int(final_df.loc[i]['create_dms'])+\"'\",\n",
    "#         )\n",
    "#         batch_df.append(current_tuple)\n",
    "#         if (len(batch_df) == 500): \n",
    "#             batch_insert(conn, batch_df)\n",
    "#             batch_df=[]\n",
    "#             print(\"Current index: {}, time: {}\".format(i, datetime.datetime.now()))\n",
    "#         #endif\n",
    "#     print('Successfully inserted dataframe into the table')\n",
    "# #insert_dataframe\n",
    "\n",
    "# table = 'cdp.often_bundled_rules'\n",
    "# print(\"before drop\")\n",
    "# drop_table(con,table)\n",
    "# print(\"before create\")\n",
    "# create_table(con,table)\n",
    "# print(\"before insert\")\n",
    "# startTime = datetime.datetime.now()\n",
    "# insert_dataframe(final_df,con,table)\n",
    "# print(\"Start: {}, Finish: {}\".format(startTime, datetime.datetime.now()))"
   ]
  },
  {
   "cell_type": "code",
   "execution_count": null,
   "id": "1bd0af9a",
   "metadata": {},
   "outputs": [],
   "source": [
    "# from concurrent.futures import ThreadPoolExecutor\n",
    "\n",
    "# from psycopg2.extras import execute_values\n",
    "# import json\n",
    "# import datetime\n",
    "# con=psycopg2.connect(dbname= 'dev', host='mantix-cluster.cgzkthavydhk.us-east-2.redshift.amazonaws.com', \n",
    "# port= '5439', user= 'mantix', password= 'Mantix123!')\n",
    "# cur = con.cursor()\n",
    "\n",
    "# def drop_table(conn,table):\n",
    "#     try:\n",
    "#         query = f\"\"\"DROP TABLE IF EXISTS {table}\"\"\"\n",
    "#         cur = conn.cursor()\n",
    "#         cur.execute(query)\n",
    "#         conn.commit()\n",
    "#         print(f'Drop table {table} successfully')\n",
    "#         cur.close()\n",
    "#     except (Exception, psycopg2.DatabaseError) as error:\n",
    "#         print(\"Error: %s\" % error)\n",
    "#         conn.rollback()\n",
    "#         cur.close()\n",
    "#         #return 1\n",
    "# #drop_table\n",
    "\n",
    "# def create_table(conn,table):\n",
    "#     try:\n",
    "#         query_col = \"\"\"(\n",
    "#             product_url VARCHAR(1000),product_code VARCHAR(1000), often_bundled_products VARCHAR(1000),tenant_id VARCHAR(1000),store_id VARCHAR(1000),create_dms VARCHAR(1000))\"\"\"\n",
    "#         query = f\"\"\"\n",
    "#                 CREATE TABLE {table} \n",
    "#                 \"\"\"+query_col\n",
    "#         cur = conn.cursor()\n",
    "#         cur.execute(\"ROLLBACK\")\n",
    "#         conn.commit()\n",
    "#         cur.execute(query)\n",
    "#         conn.commit()\n",
    "#         print(f'Successfully created the table {table}')\n",
    "#         cur.close()\n",
    "#     except (Exception, psycopg2.DatabaseError) as error:\n",
    "#         print(\"Error: %s\" % error)\n",
    "#         conn.rollback()\n",
    "#         cur.close()\n",
    "#         return 1\n",
    "# #create_table\n",
    "\n",
    "# def single_insert(conn, insert_req):\n",
    "#     \"\"\" Execute a single INSERT request \"\"\"\n",
    "#     cursor = conn.cursor()\n",
    "#     try:\n",
    "#         cursor.execute(insert_req)\n",
    "#         conn.commit()\n",
    "#     except (Exception, psycopg2.DatabaseError) as error:\n",
    "#         print(\"Error: %s\" % error)\n",
    "#         conn.rollback()\n",
    "#         cursor.close()\n",
    "#         return 1\n",
    "#     cursor.close()\n",
    "# #single_insert\n",
    "\n",
    "# def batch_insert(conn, table, batch_df):\n",
    "#     # Create a cursor object from the connection\n",
    "#     cursor = conn.cursor()\n",
    "#     statement = f\"INSERT into {table} (product_url, product_code, often_bundled_products, tenant_id, store_id, create_dms) values (%s, %s, %s, %s, %s, %s)\"\n",
    "#     try:\n",
    "#         # Execute the batch INSERT request\n",
    "#         cursor.executemany(statement, batch_df)\n",
    "#         # Commit the changes to the database\n",
    "#         conn.commit()\n",
    "#         print(\"Batch INSERT successful.\")\n",
    "#     except (Exception, psycopg2.DatabaseError) as error:\n",
    "#         # Rollback the transaction in case of an error\n",
    "#         conn.rollback()\n",
    "#         print(\"Batch INSERT failed, Error:\", error)\n",
    "#     finally:\n",
    "#         # Close the cursor\n",
    "#         cursor.close()\n",
    "\n",
    "# def insert_dataframe(final_df, conn, table):\n",
    "#     batch_df = []\n",
    "#     insert_count = 0\n",
    "\n",
    "#     def insert_batch(batch):\n",
    "#         nonlocal insert_count\n",
    "#         with conn.cursor() as cursor:\n",
    "#             try:\n",
    "#                 cursor.executemany(statement, batch)\n",
    "#                 conn.commit()\n",
    "#                 insert_count += len(batch)\n",
    "#                 print(\"Batch INSERT successful. Inserted:\", insert_count)\n",
    "#             except (Exception, psycopg2.DatabaseError) as error:\n",
    "#                 conn.rollback()\n",
    "#                 print(\"Batch INSERT failed, Error:\", error)\n",
    "\n",
    "#     statement = f\"INSERT into {table} (product_url, product_code, often_bundled_products, tenant_id, store_id, create_dms) values (%s, %s, %s, %s, %s, %s)\"\n",
    "\n",
    "#     with ThreadPoolExecutor() as executor:\n",
    "#         for i in final_df.index:\n",
    "#             current_tuple = (\n",
    "#                 \"'\" + final_df.loc[i]['image_url'] + \"'\",\n",
    "#                 \"'\" + final_df.loc[i]['product_code'] + \"'\",\n",
    "#                 \"'\" + json.dumps(final_df.loc[i]['often_bundled_products']) + \"'\",\n",
    "#                 \"'\" + final_df.loc[i]['tenant_id'] + \"'\",\n",
    "#                 \"'\" + final_df.loc[i]['store_id'] + \"'\",\n",
    "#                 \"'\" + final_df.loc[i]['create_dms'] + \"'\",\n",
    "#             )\n",
    "#             batch_df.append(current_tuple)\n",
    "#             if len(batch_df) == 500:\n",
    "#                 executor.submit(insert_batch, batch_df)\n",
    "#                 batch_df = []\n",
    "#                 print(\"Current index: {}, time: {}\".format(i, datetime.datetime.now()))\n",
    "\n",
    "#     # Insert any remaining rows\n",
    "#     if batch_df:\n",
    "#         insert_batch(batch_df)\n",
    "\n",
    "#     print('Successfully inserted dataframe into the table')\n",
    "\n",
    "# table = 'cdp.often_bundled_rules'\n",
    "# print(\"before drop\")\n",
    "# drop_table(con,table)\n",
    "# print(\"before create\")\n",
    "# create_table(con,table)\n",
    "# print(\"before insert\")\n",
    "# startTime = datetime.datetime.now()\n",
    "# insert_dataframe(final_df,con,table)\n",
    "# print(\"Start: {}, Finish: {}\".format(startTime, datetime.datetime.now()))"
   ]
  },
  {
   "cell_type": "code",
   "execution_count": null,
   "id": "da5771a0",
   "metadata": {},
   "outputs": [],
   "source": []
  },
  {
   "cell_type": "code",
   "execution_count": null,
   "id": "5fea6da0",
   "metadata": {},
   "outputs": [],
   "source": []
  },
  {
   "cell_type": "code",
   "execution_count": null,
   "id": "4e366ef3",
   "metadata": {},
   "outputs": [],
   "source": []
  },
  {
   "cell_type": "code",
   "execution_count": null,
   "id": "7286ab8b",
   "metadata": {},
   "outputs": [],
   "source": []
  },
  {
   "cell_type": "code",
   "execution_count": null,
   "id": "394e8256",
   "metadata": {},
   "outputs": [],
   "source": []
  },
  {
   "cell_type": "code",
   "execution_count": null,
   "id": "36fab048",
   "metadata": {},
   "outputs": [],
   "source": []
  },
  {
   "cell_type": "code",
   "execution_count": null,
   "id": "11cddce8",
   "metadata": {},
   "outputs": [],
   "source": []
  },
  {
   "cell_type": "code",
   "execution_count": null,
   "id": "51d6c909",
   "metadata": {},
   "outputs": [],
   "source": []
  },
  {
   "cell_type": "code",
   "execution_count": null,
   "id": "bad63bd4",
   "metadata": {},
   "outputs": [],
   "source": []
  },
  {
   "cell_type": "markdown",
   "id": "e4c165d6",
   "metadata": {},
   "source": [
    "###### "
   ]
  }
 ],
 "metadata": {
  "kernelspec": {
   "display_name": "conda_python3",
   "language": "python",
   "name": "conda_python3"
  },
  "language_info": {
   "codemirror_mode": {
    "name": "ipython",
    "version": 3
   },
   "file_extension": ".py",
   "mimetype": "text/x-python",
   "name": "python",
   "nbconvert_exporter": "python",
   "pygments_lexer": "ipython3",
   "version": "3.6.13"
  }
 },
 "nbformat": 4,
 "nbformat_minor": 5
}
